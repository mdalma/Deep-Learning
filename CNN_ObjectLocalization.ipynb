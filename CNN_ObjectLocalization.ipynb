{
  "cells": [
    {
      "cell_type": "markdown",
      "metadata": {
        "id": "MKJbA-wvbu-1"
      },
      "source": [
        "# Miquel Monge Dalmau\n",
        "---"
      ]
    },
    {
      "cell_type": "markdown",
      "metadata": {
        "id": "tktvdabC18-s"
      },
      "source": [
        "\n",
        "\n",
        "---\n",
        "\n",
        "\n",
        "# Convolutional Neural Networks for Object Localization"
      ]
    },
    {
      "cell_type": "markdown",
      "metadata": {
        "id": "niJxVteL18-y"
      },
      "source": [
        "In this notebook we will learn how to implement a convolutional neural network (CNN) regressor to localize objects of the FashionMNIST dataset. We will use the Pytorch library for the implementation, compilation and training of the model.\n",
        "\n",
        "The input to our model is a $64 \\times 64$ image with a FashionMNIST object at any location, and the output of the model are four real numbers that define a bounding box (x, y, width, and height) around the object."
      ]
    },
    {
      "cell_type": "markdown",
      "metadata": {
        "id": "uXiJ5N54d80m"
      },
      "source": [
        "> Agafarem les imatges de MNIST (estan molt ben centrades), el nostre dataset seran imatge 64x64 que tindràn enganxades en algun lloc random alguna imatge de MNIST. El model dirà on està i quina és la classe de l'objecte."
      ]
    },
    {
      "cell_type": "markdown",
      "metadata": {
        "id": "MzOESkSSOONP"
      },
      "source": [
        "![localization_task.png](data:image/png;base64,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)"
      ]
    },
    {
      "cell_type": "markdown",
      "metadata": {
        "id": "mFLTv4idOONR"
      },
      "source": [
        "### Import necessary modules"
      ]
    },
    {
      "cell_type": "code",
      "execution_count": null,
      "metadata": {
        "colab": {
          "base_uri": "https://localhost:8080/"
        },
        "id": "Z__gn53GOONT",
        "outputId": "59455815-9243-4821-ef72-61ba4719f055"
      },
      "outputs": [
        {
          "name": "stdout",
          "output_type": "stream",
          "text": [
            "Check GPU runtime type... \n",
            "OK!\n"
          ]
        }
      ],
      "source": [
        "import torch\n",
        "import torch.nn as nn\n",
        "import torch.nn.functional as F\n",
        "import torch.optim as optim\n",
        "from torch.utils.data import Dataset, DataLoader\n",
        "from torchvision import datasets, transforms\n",
        "from torch.optim.lr_scheduler import StepLR\n",
        "\n",
        "import numpy as np\n",
        "import matplotlib.pyplot as plt\n",
        "from skimage.transform import resize\n",
        "\n",
        "from torchsummary import summary\n",
        "\n",
        "print('Check GPU runtime type... ')\n",
        "use_cuda = torch.cuda.is_available()\n",
        "if not use_cuda:\n",
        "  device = \"cpu\"\n",
        "  print('Change Runtype Type in top menu for GPU acceleration')\n",
        "else:\n",
        "  device = \"cuda\"\n",
        "  print('OK!')"
      ]
    },
    {
      "cell_type": "markdown",
      "metadata": {
        "id": "xJG-7PGF18-0"
      },
      "source": [
        "## Create a custom dataset"
      ]
    },
    {
      "cell_type": "markdown",
      "metadata": {
        "id": "1xicFSzH18-1"
      },
      "source": [
        "First of all we need a custom dataset class to create our training/test samples. This class creates synthetic images by placing FashionMNIST objects (wich have a size $28 \\times 28$) at random locations of a black $64 \\times 64$ canvas image."
      ]
    },
    {
      "cell_type": "markdown",
      "metadata": {
        "id": "_BD1n2MheY08"
      },
      "source": [
        "> Necessitem el constructor, el gettitem (mètode que cridem és com un iterable) retornarem la imatge i el seu groundtrough (4 nombres de bounidng box)."
      ]
    },
    {
      "cell_type": "markdown",
      "metadata": {
        "id": "zKA5oWU4oU51"
      },
      "source": [
        "> Fer servir randoms pel test set és un error, al constructor hauríem de veure si estem en test set, i que els valors en aquest cas estiguin fixes."
      ]
    },
    {
      "cell_type": "code",
      "execution_count": null,
      "metadata": {
        "id": "RhvETBzY18-2"
      },
      "outputs": [],
      "source": [
        "class FashionMNISTlocalizationDataset(Dataset):\n",
        "    \"\"\"MNIST localization toy dataset.\"\"\"\n",
        "\n",
        "    def __init__(self, imgsize=(64,64), train=True, transform=None):\n",
        "        \"\"\"\n",
        "        Args:\n",
        "            imgsize (tuple (int,int), optional) - the size of generated images,\n",
        "                both width and height must be > 48\n",
        "            train (bool, optional) – If True, creates dataset from MNIST training\n",
        "                samples, otherwise from test\n",
        "            transform (callable, optional): Optional transform to be applied\n",
        "                on a sample.\n",
        "        \"\"\"\n",
        "        assert len(imgsize)==2 and imgsize[0] > 48 and imgsize[1] > 48\n",
        "        self.imgsize = imgsize\n",
        "        self.transform = transform\n",
        "        self.fashionMnist = datasets.FashionMNIST('../data', train=train, download=True) # càrreguem el MNIST amb les transformacions com a pàrametre\n",
        "\n",
        "    def __len__(self):\n",
        "        return self.fashionMnist.data.shape[0] # num d'exemples del dataset\n",
        "\n",
        "    def __getitem__(self, idx):\n",
        "        if torch.is_tensor(idx):\n",
        "            idx = idx.tolist()\n",
        "        # create a black image\n",
        "        image = torch.zeros(self.imgsize)\n",
        "        image_width, image_height = self.imgsize\n",
        "                \n",
        "        # Get one Fashion-MNIST object, resize it randomly, and copy it into\n",
        "        # a random location of the black image\n",
        "        object_img = self.fashionMnist.data[idx,:,:]\n",
        "\n",
        "        # Get label of the image\n",
        "        label_img = self.fashionMnist.targets[idx]\n",
        "\n",
        "        object_width  = object_height = np.random.randint(19,47)\n",
        "\n",
        "        object_img = resize(object_img, (object_height, object_width))\n",
        "\n",
        "        x_offset = np.random.randint(0,image_width-object_width)\n",
        "        y_offset = np.random.randint(0,image_height-object_height)\n",
        "\n",
        "        image[y_offset:y_offset+object_height, x_offset:x_offset+object_width] += object_img\n",
        "        \n",
        "        image = image.reshape((1,)+self.imgsize) # must be a tensor image of size (C, H, W)\n",
        "        \n",
        "        if self.transform:\n",
        "            image = self.transform(image)\n",
        "\n",
        "        # normalize the target values (bounding box coordinates) so they are real numbers from 0. to 1.\n",
        "        # per poder reutilitzar la xarxa per altres imatges, utilitzem coordenades relatives (no pixels d'imatge)\n",
        "        bbox = np.array([x_offset / image_width, y_offset / image_height, \n",
        "                         object_width / image_width, object_height / image_height], dtype=np.float32)\n",
        "            \n",
        "        sample = {'image': image, 'bbox': bbox, 'cls': label_img}\n",
        "\n",
        "        return sample"
      ]
    },
    {
      "cell_type": "markdown",
      "metadata": {
        "id": "vWKcFZeSOONa"
      },
      "source": [
        "Now we can create the necessary Dataset and DataLoader objects as follows."
      ]
    },
    {
      "cell_type": "code",
      "execution_count": null,
      "metadata": {
        "colab": {
          "base_uri": "https://localhost:8080/",
          "height": 423,
          "referenced_widgets": [
            "d058affa359b4d829b10a0e8bc1f582d",
            "e9f7cd454dee4c1a8812d762715d7ae3",
            "60b1fc24928b40e5963bb94b47193269",
            "79cbb4479fd04b028993f9ae31266e64",
            "7035798a82454195b0d3e9dac1909538",
            "f3b0808228704ca5bf82851e42e90970",
            "69eec4ae5a534576bfaefbd06c3a63b4",
            "711054e12f984ad98186a7756d9d0869",
            "edf75985d9d74981b348895ba075a506",
            "c28f3b7675894b4ebe981c7d3267130a",
            "7713bf43f9de40558f645a9c1b7bded7",
            "43668733448b40bdab17e05a1509f801",
            "cda8d460bc234041abfce597dd14493f",
            "1e12175fcbda426fbc03729a8d947b34",
            "c9cf2f743e714ab482913b3f38bbb518",
            "f4da0bbe98de4dbd8bc10d9b1f2adb3e",
            "c4b7c76f16234ad5a59514f89525bc23",
            "0062bd5133424a2bae436398616afb0f",
            "641cd9af0e764b1e8ea17a16982c43f1",
            "f75812d61f2b439797f77fa2182b90b7",
            "ddf33a9b8b604e8f9982d8eabb506aca",
            "27e1a3088eec4b1f9652f3675108fd82",
            "396919fa1aee4caf868e68c1ad49eb55",
            "7cbcffd488794d8f82e0b8e4eb69c908",
            "2ce3ca845fb04e7f804a5cabb16d8488",
            "ed75792142ad4b06aa1d98f576f4a758",
            "c0553b840c164efe95a36b5650c83e03",
            "56325ddc43d0457189213bbb42621d35",
            "c65b6478c8144668baf10eaf5ea59961",
            "204a26e680f74e4e9de470bda5e0c16f",
            "cf595bed393744aba104cae071c28fe5",
            "0290729c888e439396da95c2be11276b",
            "dde5b3f03250447d8c9fd0fc451ece2e",
            "bd102b55975c4579a42368e6cc4828b5",
            "2488069390a74df88211dc4730cae5f6",
            "4a22ff91c78247188bef45b31c636161",
            "1dd43c9c86b84e64b0397aeee6082f0d",
            "8d29b91697d74ed880cbe0c33c4b47a1",
            "4d34e7b39dd048d0918046f601fae764",
            "cdcef1733f8b43f59e05e0dadb7d3f64",
            "82e00f6f63644172ab0ed6112bd999e3",
            "219dd97f7617408b9f662971df22fbf8",
            "953498a0ddfe4d11b43e3807460199f4",
            "5714d22dcbcf423d942c6b3a9b8f9cb6"
          ]
        },
        "id": "uFW3wayxOONb",
        "outputId": "0f6dc2db-0783-46a7-9a02-370f1ec1e471"
      },
      "outputs": [
        {
          "name": "stdout",
          "output_type": "stream",
          "text": [
            "Downloading http://fashion-mnist.s3-website.eu-central-1.amazonaws.com/train-images-idx3-ubyte.gz\n",
            "Downloading http://fashion-mnist.s3-website.eu-central-1.amazonaws.com/train-images-idx3-ubyte.gz to ../data/FashionMNIST/raw/train-images-idx3-ubyte.gz\n"
          ]
        },
        {
          "data": {
            "application/vnd.jupyter.widget-view+json": {
              "model_id": "d058affa359b4d829b10a0e8bc1f582d",
              "version_major": 2,
              "version_minor": 0
            },
            "text/plain": [
              "  0%|          | 0/26421880 [00:00<?, ?it/s]"
            ]
          },
          "metadata": {},
          "output_type": "display_data"
        },
        {
          "name": "stdout",
          "output_type": "stream",
          "text": [
            "Extracting ../data/FashionMNIST/raw/train-images-idx3-ubyte.gz to ../data/FashionMNIST/raw\n",
            "\n",
            "Downloading http://fashion-mnist.s3-website.eu-central-1.amazonaws.com/train-labels-idx1-ubyte.gz\n",
            "Downloading http://fashion-mnist.s3-website.eu-central-1.amazonaws.com/train-labels-idx1-ubyte.gz to ../data/FashionMNIST/raw/train-labels-idx1-ubyte.gz\n"
          ]
        },
        {
          "data": {
            "application/vnd.jupyter.widget-view+json": {
              "model_id": "43668733448b40bdab17e05a1509f801",
              "version_major": 2,
              "version_minor": 0
            },
            "text/plain": [
              "  0%|          | 0/29515 [00:00<?, ?it/s]"
            ]
          },
          "metadata": {},
          "output_type": "display_data"
        },
        {
          "name": "stdout",
          "output_type": "stream",
          "text": [
            "Extracting ../data/FashionMNIST/raw/train-labels-idx1-ubyte.gz to ../data/FashionMNIST/raw\n",
            "\n",
            "Downloading http://fashion-mnist.s3-website.eu-central-1.amazonaws.com/t10k-images-idx3-ubyte.gz\n",
            "Downloading http://fashion-mnist.s3-website.eu-central-1.amazonaws.com/t10k-images-idx3-ubyte.gz to ../data/FashionMNIST/raw/t10k-images-idx3-ubyte.gz\n"
          ]
        },
        {
          "data": {
            "application/vnd.jupyter.widget-view+json": {
              "model_id": "396919fa1aee4caf868e68c1ad49eb55",
              "version_major": 2,
              "version_minor": 0
            },
            "text/plain": [
              "  0%|          | 0/4422102 [00:00<?, ?it/s]"
            ]
          },
          "metadata": {},
          "output_type": "display_data"
        },
        {
          "name": "stdout",
          "output_type": "stream",
          "text": [
            "Extracting ../data/FashionMNIST/raw/t10k-images-idx3-ubyte.gz to ../data/FashionMNIST/raw\n",
            "\n",
            "Downloading http://fashion-mnist.s3-website.eu-central-1.amazonaws.com/t10k-labels-idx1-ubyte.gz\n",
            "Downloading http://fashion-mnist.s3-website.eu-central-1.amazonaws.com/t10k-labels-idx1-ubyte.gz to ../data/FashionMNIST/raw/t10k-labels-idx1-ubyte.gz\n"
          ]
        },
        {
          "data": {
            "application/vnd.jupyter.widget-view+json": {
              "model_id": "bd102b55975c4579a42368e6cc4828b5",
              "version_major": 2,
              "version_minor": 0
            },
            "text/plain": [
              "  0%|          | 0/5148 [00:00<?, ?it/s]"
            ]
          },
          "metadata": {},
          "output_type": "display_data"
        },
        {
          "name": "stdout",
          "output_type": "stream",
          "text": [
            "Extracting ../data/FashionMNIST/raw/t10k-labels-idx1-ubyte.gz to ../data/FashionMNIST/raw\n",
            "\n"
          ]
        }
      ],
      "source": [
        "transform=transforms.Compose([\n",
        "        transforms.Normalize((0.1307,), (0.3081,))\n",
        "        ])\n",
        "\n",
        "# Dataset de entrenament i validació\n",
        "dataset1 = FashionMNISTlocalizationDataset(train=True, transform=transform)\n",
        "dataset2 = FashionMNISTlocalizationDataset(train=False, transform=transform)\n",
        "\n",
        "train_kwargs = {'batch_size': 64}\n",
        "test_kwargs  = {'batch_size': 1000}\n",
        "\n",
        "if use_cuda:\n",
        "    cuda_kwargs = {'num_workers': 1,\n",
        "                   'pin_memory': True,\n",
        "                   'shuffle': True}\n",
        "    train_kwargs.update(cuda_kwargs)\n",
        "    test_kwargs.update(cuda_kwargs)\n",
        "\n",
        "train_loader = DataLoader(dataset1, **train_kwargs)\n",
        "test_loader = DataLoader(dataset2, **test_kwargs)"
      ]
    },
    {
      "cell_type": "markdown",
      "metadata": {
        "id": "mS-cmCLP18-2"
      },
      "source": [
        "### Visualize some generated samples"
      ]
    },
    {
      "cell_type": "code",
      "execution_count": null,
      "metadata": {
        "colab": {
          "base_uri": "https://localhost:8080/",
          "height": 191
        },
        "id": "4aAtRuL-18-2",
        "outputId": "c5821285-1b8f-4a63-cc34-5e37cd64bf19"
      },
      "outputs": [
        {
          "name": "stdout",
          "output_type": "stream",
          "text": [
            "0 torch.Size([1, 64, 64]) (4,)\n",
            "1 torch.Size([1, 64, 64]) (4,)\n",
            "2 torch.Size([1, 64, 64]) (4,)\n",
            "3 torch.Size([1, 64, 64]) (4,)\n"
          ]
        },
        {
          "data": {
            "image/png": "[encoded data removed]",
            "text/plain": [
              "<Figure size 432x288 with 4 Axes>"
            ]
          },
          "metadata": {
            "needs_background": "light"
          },
          "output_type": "display_data"
        }
      ],
      "source": [
        "def show_bbox(image, bbox, pred=None):\n",
        "    \"\"\"Show image with bounding box - podem passar 2 bbox (predicció i groundtruth\"\"\"\n",
        "    image = image.squeeze()\n",
        "    plt.imshow(image, cmap='gray')\n",
        "\n",
        "    # plot the ground truth bounding box\n",
        "    imgsize = image.shape\n",
        "    bbox *= [imgsize[1],imgsize[0],imgsize[0],imgsize[1]]\n",
        "    plt.plot([bbox[0],bbox[0]+bbox[2],bbox[0]+bbox[2],bbox[0],bbox[0]],\n",
        "             [bbox[1],bbox[1],bbox[1]+bbox[3],bbox[1]+bbox[3],bbox[1]], c='r')\n",
        "\n",
        "    if pred is not None: \n",
        "        # plot the predicted bounding box (if provided)\n",
        "        pred *= [imgsize[1],imgsize[0],imgsize[0],imgsize[1]]\n",
        "        plt.plot([pred[0],pred[0]+pred[2],pred[0]+pred[2],pred[0],pred[0]],\n",
        "                 [pred[1],pred[1],pred[1]+pred[3],pred[1]+pred[3],pred[1]], c='b')\n",
        "    \n",
        "    \n",
        " \n",
        "fig = plt.figure()\n",
        "for i in range(len(dataset1)):\n",
        "    sample = dataset1[i]\n",
        "    print(i, sample['image'].shape, sample['bbox'].shape)\n",
        "    ax = plt.subplot(1, 4, i + 1)\n",
        "    plt.tight_layout()\n",
        "    ax.set_title('Sample #{}'.format(i))\n",
        "    ax.axis('off')\n",
        "    show_bbox(sample['image'], sample['bbox'])\n",
        "\n",
        "    if i == 3:\n",
        "        plt.show()\n",
        "        break"
      ]
    },
    {
      "cell_type": "code",
      "execution_count": null,
      "metadata": {
        "colab": {
          "base_uri": "https://localhost:8080/"
        },
        "id": "aszWIV0m18-5",
        "outputId": "63cee685-e0cc-4fa6-9009-268e96068a83"
      },
      "outputs": [
        {
          "name": "stdout",
          "output_type": "stream",
          "text": [
            "Size of training data: 60000\n",
            "Size of test data: 10000\n"
          ]
        }
      ],
      "source": [
        "# check the size of the dataset\n",
        "print(\"Size of training data: {}\".format(len(dataset1)))\n",
        "print(\"Size of test data: {}\".format(len(dataset2)))"
      ]
    },
    {
      "cell_type": "markdown",
      "metadata": {
        "id": "gmOpSBhE18-3"
      },
      "source": [
        "We have 60,000 images for training and 10,000 for testing. The image size is $64 \\times 64$ pixels and they have only one channel (greyscale images)."
      ]
    },
    {
      "cell_type": "markdown",
      "metadata": {
        "id": "DyLPtyuE18-7"
      },
      "source": [
        "## Create the CNN regression model\n",
        "\n",
        "We will use a simple CNN model with four convolutional layers, one pooling layer, and two fully connected layers. \n",
        "\n",
        "Notice that the output layer has four neurons with a `sigmoid` activation, so our model produces at its outputs four real numbers (x, y, width, and height).\n",
        "\n",
        "**Question: Why are we using a `sigmoid` activation? Can we use other activation functions in this model?**"
      ]
    },
    {
      "cell_type": "markdown",
      "metadata": {
        "id": "hxocSxXkhAXj"
      },
      "source": [
        "**Apunts de classe**\n",
        "\n",
        "> Ara fem la regressió, no fem la classificació. Tenim 2 blocs seqüencials: backbone amb a() Relus i l'altre és la sortida de la bbox, capa lineal amb a() sigmoide. A forward, passa per convolucionals, fa un feature extractor, la feature és la que processem amb la capa lineal amb els 4 nombres de bbox. Si volem afegir classificació necessitem un bloc més:\n",
        "\n",
        "> self.classification = nn.Sequential(capes lineals (una o més)) però ara no són 4 sortides, ara seran tantes sortides com classes (10). softmax per classificar.\n",
        "\n",
        "> volem treure noms reals no una sortida amb 0 i 1, perquè és una regressió. Sabem que la sortida estan acotades entre 0 i 1, per això posem sigmoide, també podem posar una lineal (-inf a inf) però pot ser que a la xarxa li costi més trobar el rang. Amb sigmoide li diem que els valors que estem buscant estan entre 0 i 1. També podem posar una tanh, una relu (valors entre o i +inf)."
      ]
    },
    {
      "cell_type": "code",
      "execution_count": null,
      "metadata": {
        "colab": {
          "base_uri": "https://localhost:8080/"
        },
        "id": "ind1Flc-18-7",
        "outputId": "825ede0e-1e96-442b-849c-89853c380124"
      },
      "outputs": [
        {
          "name": "stdout",
          "output_type": "stream",
          "text": [
            "----------------------------------------------------------------\n",
            "        Layer (type)               Output Shape         Param #\n",
            "================================================================\n",
            "            Conv2d-1            [-1, 8, 32, 32]             208\n",
            "              ReLU-2            [-1, 8, 32, 32]               0\n",
            "            Conv2d-3           [-1, 16, 16, 16]           1,168\n",
            "              ReLU-4           [-1, 16, 16, 16]               0\n",
            "            Conv2d-5             [-1, 32, 8, 8]           4,640\n",
            "              ReLU-6             [-1, 32, 8, 8]               0\n",
            "            Conv2d-7             [-1, 32, 4, 4]           9,248\n",
            "              ReLU-8             [-1, 32, 4, 4]               0\n",
            " AdaptiveAvgPool2d-9             [-1, 32, 1, 1]               0\n",
            "          Flatten-10                   [-1, 32]               0\n",
            "           Linear-11                    [-1, 4]             132\n",
            "          Sigmoid-12                    [-1, 4]               0\n",
            "================================================================\n",
            "Total params: 15,396\n",
            "Trainable params: 15,396\n",
            "Non-trainable params: 0\n",
            "----------------------------------------------------------------\n",
            "Input size (MB): 0.02\n",
            "Forward/backward pass size (MB): 0.23\n",
            "Params size (MB): 0.06\n",
            "Estimated Total Size (MB): 0.30\n",
            "----------------------------------------------------------------\n"
          ]
        }
      ],
      "source": [
        "class Net(nn.Module):\n",
        "    def __init__(self):\n",
        "        super(Net, self).__init__()\n",
        "        self.backbone = nn.Sequential(\n",
        "          nn.Conv2d( 1, 8, 5, padding=2,stride=2), nn.ReLU(), #14\n",
        "          nn.Conv2d( 8,16, 3, padding=1,stride=2), nn.ReLU(), # 7\n",
        "          nn.Conv2d(16,32, 3, padding=1,stride=2), nn.ReLU(), # 4\n",
        "          nn.Conv2d(32,32, 3, padding=1,stride=2), nn.ReLU(), # 2\n",
        "          nn.AdaptiveAvgPool2d(1),\n",
        "          nn.Flatten(),\n",
        "          )\n",
        "        \n",
        "        self.bbox = nn.Sequential(nn.Linear(32,4), nn.Sigmoid())\n",
        "        \n",
        "    def forward(self, x):\n",
        "        features = self.backbone(x)\n",
        "        bbox = self.bbox(features)\n",
        "        return bbox\n",
        "\n",
        "summary(Net(),(1,64,64),device=\"cpu\")"
      ]
    },
    {
      "cell_type": "markdown",
      "metadata": {
        "id": "hVN3dycqjIYD"
      },
      "source": [
        "> Mètode summary a partir d'una imatge 64x64 veiem com passaria a la xarxa."
      ]
    },
    {
      "cell_type": "markdown",
      "metadata": {
        "id": "ndYgcQkW18-8"
      },
      "source": [
        "### Define the training method\n",
        "\n",
        "For training our CNN regression model we will use the L1 loss, which takes the mean element-wise absolute value difference.\n",
        "\n",
        "See <a href=\"https://pytorch.org/docs/stable/generated/torch.nn.L1Loss.html#torch.nn.L1Loss\">`torch.nn.L1Loss`</a> for details."
      ]
    },
    {
      "cell_type": "markdown",
      "metadata": {
        "id": "_H70qT02jh3D"
      },
      "source": [
        "> Fem servir loss de regressió, normalment fem servir crossentropy. MSE també ens serviria."
      ]
    },
    {
      "cell_type": "code",
      "execution_count": null,
      "metadata": {
        "id": "u2LLkt5218-8"
      },
      "outputs": [],
      "source": [
        "def train(model, device, train_loader, optimizer, epoch, mode = 'cls', scheduler=None):\n",
        "    model.train()\n",
        "    loss_values = []\n",
        "    for batch_idx, sample_batched in enumerate(train_loader):\n",
        "        data = sample_batched['image']\n",
        "        target = sample_batched['bbox']\n",
        "        data, target = data.to(device), target.to(device)\n",
        "        optimizer.zero_grad()\n",
        "        output = model(data)\n",
        "        loss = F.l1_loss(output, target) if mode == 'reg' else F.cross_entropy(output, target) # depenent si fem reg o cls canviarà el loss\n",
        "        loss_values.append(loss.detach().cpu())\n",
        "        loss.backward()\n",
        "        optimizer.step()\n",
        "        if batch_idx % log_interval == 0:\n",
        "            print('Train Epoch: {} [{}/{} ({:.0f}%)]\\tLoss: {:.6f}'.format(\n",
        "                epoch, batch_idx * len(data), len(train_loader.dataset),\n",
        "                100. * batch_idx / len(train_loader), loss.item()))\n",
        "        if scheduler is not None:\n",
        "            scheduler.step()\n",
        "    return loss_values"
      ]
    },
    {
      "cell_type": "markdown",
      "metadata": {
        "id": "oOvIRgNG18-8"
      },
      "source": [
        "### Train the model\n",
        "\n",
        "We will train the model with the [`Adam`](https://pytorch.org/docs/stable/optim.html?highlight=adam#torch.optim.Adam) and the [`OneCycleLR`](https://pytorch.org/docs/stable/optim.html?highlight=onecyclelr#torch.optim.lr_scheduler.OneCycleLR) learning rate scheduler."
      ]
    },
    {
      "cell_type": "markdown",
      "metadata": {
        "id": "hMlllpGKj9bw"
      },
      "source": [
        ">  **OneCycleLR**: pirmer incrementem fins a valor màxim i dp anem reduïnt. No hi ha cap raó per utilitxar aquest i no altres, normalment es fa servir a problemes més fidicils."
      ]
    },
    {
      "cell_type": "code",
      "execution_count": null,
      "metadata": {
        "colab": {
          "base_uri": "https://localhost:8080/"
        },
        "id": "7yGqDf0w18-9",
        "outputId": "426d98af-31a8-49e9-e8f6-489769fc8589"
      },
      "outputs": [
        {
          "name": "stdout",
          "output_type": "stream",
          "text": [
            "Train Epoch: 1 [0/60000 (0%)]\tLoss: 0.184809\n",
            "Train Epoch: 1 [6400/60000 (11%)]\tLoss: 0.097225\n",
            "Train Epoch: 1 [12800/60000 (21%)]\tLoss: 0.091650\n",
            "Train Epoch: 1 [19200/60000 (32%)]\tLoss: 0.074382\n",
            "Train Epoch: 1 [25600/60000 (43%)]\tLoss: 0.061195\n",
            "Train Epoch: 1 [32000/60000 (53%)]\tLoss: 0.067465\n",
            "Train Epoch: 1 [38400/60000 (64%)]\tLoss: 0.052937\n",
            "Train Epoch: 1 [44800/60000 (75%)]\tLoss: 0.055076\n",
            "Train Epoch: 1 [51200/60000 (85%)]\tLoss: 0.057057\n",
            "Train Epoch: 1 [57600/60000 (96%)]\tLoss: 0.064893\n",
            "Train Epoch: 2 [0/60000 (0%)]\tLoss: 0.043101\n",
            "Train Epoch: 2 [6400/60000 (11%)]\tLoss: 0.041905\n",
            "Train Epoch: 2 [12800/60000 (21%)]\tLoss: 0.039127\n",
            "Train Epoch: 2 [19200/60000 (32%)]\tLoss: 0.035439\n",
            "Train Epoch: 2 [25600/60000 (43%)]\tLoss: 0.029305\n",
            "Train Epoch: 2 [32000/60000 (53%)]\tLoss: 0.038067\n",
            "Train Epoch: 2 [38400/60000 (64%)]\tLoss: 0.038082\n",
            "Train Epoch: 2 [44800/60000 (75%)]\tLoss: 0.028179\n",
            "Train Epoch: 2 [51200/60000 (85%)]\tLoss: 0.021616\n",
            "Train Epoch: 2 [57600/60000 (96%)]\tLoss: 0.024147\n",
            "Train Epoch: 3 [0/60000 (0%)]\tLoss: 0.026976\n",
            "Train Epoch: 3 [6400/60000 (11%)]\tLoss: 0.026854\n",
            "Train Epoch: 3 [12800/60000 (21%)]\tLoss: 0.022618\n",
            "Train Epoch: 3 [19200/60000 (32%)]\tLoss: 0.020736\n",
            "Train Epoch: 3 [25600/60000 (43%)]\tLoss: 0.019415\n",
            "Train Epoch: 3 [32000/60000 (53%)]\tLoss: 0.022003\n",
            "Train Epoch: 3 [38400/60000 (64%)]\tLoss: 0.017121\n",
            "Train Epoch: 3 [44800/60000 (75%)]\tLoss: 0.018501\n",
            "Train Epoch: 3 [51200/60000 (85%)]\tLoss: 0.016563\n",
            "Train Epoch: 3 [57600/60000 (96%)]\tLoss: 0.017482\n",
            "Train Epoch: 4 [0/60000 (0%)]\tLoss: 0.019738\n",
            "Train Epoch: 4 [6400/60000 (11%)]\tLoss: 0.016995\n",
            "Train Epoch: 4 [12800/60000 (21%)]\tLoss: 0.016358\n",
            "Train Epoch: 4 [19200/60000 (32%)]\tLoss: 0.019366\n",
            "Train Epoch: 4 [25600/60000 (43%)]\tLoss: 0.024203\n",
            "Train Epoch: 4 [32000/60000 (53%)]\tLoss: 0.016677\n",
            "Train Epoch: 4 [38400/60000 (64%)]\tLoss: 0.017798\n",
            "Train Epoch: 4 [44800/60000 (75%)]\tLoss: 0.013441\n",
            "Train Epoch: 4 [51200/60000 (85%)]\tLoss: 0.015040\n",
            "Train Epoch: 4 [57600/60000 (96%)]\tLoss: 0.013396\n",
            "Train Epoch: 5 [0/60000 (0%)]\tLoss: 0.013892\n",
            "Train Epoch: 5 [6400/60000 (11%)]\tLoss: 0.017937\n",
            "Train Epoch: 5 [12800/60000 (21%)]\tLoss: 0.014103\n",
            "Train Epoch: 5 [19200/60000 (32%)]\tLoss: 0.015887\n",
            "Train Epoch: 5 [25600/60000 (43%)]\tLoss: 0.015998\n",
            "Train Epoch: 5 [32000/60000 (53%)]\tLoss: 0.011963\n",
            "Train Epoch: 5 [38400/60000 (64%)]\tLoss: 0.012089\n",
            "Train Epoch: 5 [44800/60000 (75%)]\tLoss: 0.012456\n",
            "Train Epoch: 5 [51200/60000 (85%)]\tLoss: 0.013501\n",
            "Train Epoch: 5 [57600/60000 (96%)]\tLoss: 0.013055\n"
          ]
        }
      ],
      "source": [
        "model = Net().to(device)\n",
        "\n",
        "lr = 1e-2\n",
        "optimizer = optim.Adam(model.parameters(), lr=lr)\n",
        "\n",
        "epochs = 5\n",
        "scheduler = optim.lr_scheduler.OneCycleLR(optimizer, lr, epochs=epochs, steps_per_epoch=len(train_loader))\n",
        "\n",
        "log_interval = 100 # how many batches to wait before logging training status\n",
        "\n",
        "loss_history_reg = []\n",
        "for epoch in range(1, epochs + 1):\n",
        "    loss_values = train(model, device, train_loader, optimizer, epoch, 'reg', scheduler)\n",
        "    loss_history_reg += loss_values"
      ]
    },
    {
      "cell_type": "markdown",
      "metadata": {
        "id": "mIMOMKRh18--"
      },
      "source": [
        "### Plot the loss over time"
      ]
    },
    {
      "cell_type": "code",
      "execution_count": null,
      "metadata": {
        "colab": {
          "base_uri": "https://localhost:8080/",
          "height": 281
        },
        "id": "Jb2ocuvo18--",
        "outputId": "8207580c-8b56-40db-daa8-c39c145d7baa"
      },
      "outputs": [
        {
          "data": {
            "image/png": "[encoded data removed]",
            "text/plain": [
              "<Figure size 432x288 with 1 Axes>"
            ]
          },
          "metadata": {
            "needs_background": "light"
          },
          "output_type": "display_data"
        }
      ],
      "source": [
        "plt.plot(np.arange(len(loss_history_reg)), loss_history_reg)\n",
        "plt.title('L1 training loss')\n",
        "plt.show()"
      ]
    },
    {
      "cell_type": "markdown",
      "metadata": {
        "id": "5tWPmXhk18--"
      },
      "source": [
        "## Evaluate the model\n",
        "\n",
        "Finally, we can use the trained model to predict a bounding box for any given image. Let's see how to make predictions for the first four images of the test set."
      ]
    },
    {
      "cell_type": "code",
      "execution_count": null,
      "metadata": {
        "colab": {
          "base_uri": "https://localhost:8080/",
          "height": 122
        },
        "id": "JMecAtU618--",
        "outputId": "2639957c-d4a5-4949-ed35-16c386664188"
      },
      "outputs": [
        {
          "data": {
            "image/png": "[encoded data removed]",
            "text/plain": [
              "<Figure size 432x288 with 4 Axes>"
            ]
          },
          "metadata": {
            "needs_background": "light"
          },
          "output_type": "display_data"
        }
      ],
      "source": [
        "model.eval()\n",
        "\n",
        "fig = plt.figure()\n",
        "for i in range(len(dataset2)):\n",
        "    sample = dataset2[i]\n",
        "    ax = plt.subplot(1, 4, i + 1)\n",
        "    plt.tight_layout()\n",
        "    ax.set_title('Sample #{}'.format(i))\n",
        "    ax.axis('off')\n",
        "    \n",
        "    # predict the bounding box for a given image\n",
        "    data = sample['image']\n",
        "    data = data.reshape((1,)+data.shape) # shape must be (b,c,h,w)\n",
        "    data = data.to(device)\n",
        "    with torch.no_grad():\n",
        "        output = model(data)\n",
        "        \n",
        "    sample['pred'] = output[0].cpu().numpy()\n",
        "    show_bbox(sample['image'], sample['bbox'])\n",
        "\n",
        "    if i == 3:\n",
        "        plt.show()\n",
        "        break"
      ]
    },
    {
      "cell_type": "markdown",
      "metadata": {
        "id": "aLdoYXd6OONt"
      },
      "source": [
        "We appreciate that the predicted bounding boxes (blue) are usually good aproximations of the ground truth (red).\n",
        "\n",
        "In order to measure whether the results are correct or not in the entire test set we need to implement a performance measure based on the Intersection over Union (IoU) of the ground truth and predicted bounding boxes.\n",
        "\n",
        "<table>\n",
        "<tr>\n",
        "<td><img src=\"https://www.pyimagesearch.com/wp-content/uploads/2016/09/iou_stop_sign.jpg\" width=50%></td>\n",
        "<td><img src=\"https://www.pyimagesearch.com/wp-content/uploads/2016/09/iou_equation.png\" width=50%></td>\n",
        "</tr>\n",
        "<tr>\n",
        "<td colspan=2><div style=\"font-size:3\">Images from: https://www.pyimagesearch.com/2016/11/07/intersection-over-union-iou-for-object-detection/</div></td>\n",
        "</tr>\n",
        "</table>\n"
      ]
    },
    {
      "cell_type": "markdown",
      "metadata": {
        "id": "NU3vZz-MmEf6"
      },
      "source": [
        "> Direm que la predicció és correcte en cas que la iou de la bbox i la predicció sigui més gran a un threshold, retorna un array de boleans dels casos que es compleix."
      ]
    },
    {
      "cell_type": "code",
      "execution_count": null,
      "metadata": {
        "id": "QHAsXDCuOONt"
      },
      "outputs": [],
      "source": [
        "def IoU(pred, target, iou_threshold = 0.7):\n",
        "    # determine the coordinates of the intersection rectangle\n",
        "    x_left = np.maximum(pred[:,0], target[:,0])\n",
        "    y_top = np.maximum(pred[:,1], target[:,1])\n",
        "    x_right = np.minimum(pred[:,0]+pred[:,2], target[:,0]+target[:,2])\n",
        "    y_bottom = np.minimum(pred[:,1]+pred[:,3], target[:,1]+target[:,3])\n",
        "    \n",
        "    intersection_area = (x_right - x_left) * (y_bottom - y_top)\n",
        "    \n",
        "    # compute the areas of the union\n",
        "    pred_area = pred[:,2] * pred[:,3]\n",
        "    target_area =  target[:,2] *  target[:,3]\n",
        "    \n",
        "    union_area = pred_area + target_area - intersection_area\n",
        "    \n",
        "    iou = intersection_area / union_area\n",
        "    \n",
        "    return iou>iou_threshold"
      ]
    },
    {
      "cell_type": "markdown",
      "metadata": {
        "id": "gSdUIu0SOONu"
      },
      "source": [
        "### Define the test method"
      ]
    },
    {
      "cell_type": "code",
      "execution_count": null,
      "metadata": {
        "colab": {
          "base_uri": "https://localhost:8080/"
        },
        "id": "8oKnoZ3-OONu",
        "outputId": "9d71c321-87a3-41f2-afbe-81ba1887b11b"
      },
      "outputs": [
        {
          "name": "stdout",
          "output_type": "stream",
          "text": [
            "\n",
            "Test set: Average loss: 0.0135, Accuracy: 9924/10000 (99%)\n",
            "\n"
          ]
        }
      ],
      "source": [
        "def test(model, device, test_loader):\n",
        "    model.eval()\n",
        "    test_loss = 0\n",
        "    correct = 0\n",
        "    with torch.no_grad():\n",
        "        for batch_idx, sample_batched in enumerate(test_loader):\n",
        "            data = sample_batched['image']\n",
        "            target = sample_batched['bbox']\n",
        "            data, target = data.to(device), target.to(device)\n",
        "            output = model(data)\n",
        "            test_loss += F.l1_loss(output, target).item()\n",
        "            \n",
        "            # count the number of prediction with an IoU above a certain threshold\n",
        "            correct += np.sum(IoU(output.cpu().numpy(), target.cpu().numpy(), iou_threshold = 0.65))\n",
        "\n",
        "    test_loss /= (len(test_loader.dataset)/test_loader.batch_size)\n",
        "\n",
        "    print('\\nTest set: Average loss: {:.4f}, Accuracy: {}/{} ({:.0f}%)\\n'.format(\n",
        "        test_loss, correct, len(test_loader.dataset),\n",
        "        100. * correct / len(test_loader.dataset)))\n",
        "    \n",
        "\n",
        "# call the test method\n",
        "test(model, device, test_loader)"
      ]
    },
    {
      "cell_type": "markdown",
      "metadata": {
        "id": "cAflzrAfoDzY"
      },
      "source": [
        "> El nombre accuracy podria variar, i per això hem explicat a l'inici de la pràctica. Per solucionar-ho, hauríem de modificar la classe on creem el custom dataset, en aquest cas, podem ser tolerants i no passaria res si l'accuracy varia una miqueta en diferents execucions. Si volguéssim aplicar els coneixements d'aquesta pràctica a altres més crítiques, seria recomanable arreglar aquest error."
      ]
    },
    {
      "cell_type": "markdown",
      "metadata": {
        "id": "-rhTVz2SO1JK"
      },
      "source": [
        "It usually a good idea to manually inspect the errors of the model in order to figure out when it is not working well."
      ]
    },
    {
      "cell_type": "code",
      "execution_count": null,
      "metadata": {
        "colab": {
          "base_uri": "https://localhost:8080/",
          "height": 106
        },
        "id": "V1oTY9JwOONv",
        "outputId": "61240562-4735-4cdd-bba4-486aeabd2625",
        "scrolled": true
      },
      "outputs": [
        {
          "data": {
            "image/png": "[encoded data removed]",
            "text/plain": [
              "<Figure size 432x288 with 4 Axes>"
            ]
          },
          "metadata": {
            "needs_background": "light"
          },
          "output_type": "display_data"
        }
      ],
      "source": [
        "# Find wrong prediction and display it\n",
        "\n",
        "model.eval()\n",
        "\n",
        "count = 0\n",
        "\n",
        "for i in range(len(dataset2)):\n",
        "    sample = dataset2[i]\n",
        "    \n",
        "    # predict the bounding box for a given image\n",
        "    data = sample['image']\n",
        "    data = data.reshape((1,)+data.shape) # shape must be (b,c,h,w)\n",
        "    data = data.to(device)\n",
        "    with torch.no_grad():\n",
        "        output = model(data)\n",
        "    \n",
        "    target = sample['bbox'].reshape((1,4))\n",
        "    iou= IoU(output.cpu().numpy(), target, iou_threshold = 0.7)\n",
        "    \n",
        "    if not iou:\n",
        "        #print(output.cpu().numpy(), target,iou)\n",
        "        ax = plt.subplot(1, 4, count + 1)\n",
        "        plt.tight_layout()\n",
        "        ax.axis('off')\n",
        "        sample['pred'] = output[0].cpu().numpy()\n",
        "        show_bbox(sample['image'], sample['bbox'])\n",
        "        count += 1\n",
        "           \n",
        "    if count == 4:\n",
        "        plt.show()\n",
        "        break"
      ]
    },
    {
      "cell_type": "markdown",
      "metadata": {
        "id": "WmOD7UUhow94"
      },
      "source": [
        "> Veiem que si som més flexibles amb el llindar la xarxa ho fa bastant bé. Fa la impressió que tenim més error amb imatges més petites."
      ]
    },
    {
      "cell_type": "markdown",
      "metadata": {
        "id": "xuzop7NV18--"
      },
      "source": [
        "\n",
        "## HOMEWORK"
      ]
    },
    {
      "cell_type": "markdown",
      "metadata": {
        "id": "iGojc_20RiGL"
      },
      "source": [
        "**A)** Create a CNN model for classification and train it on our synthetic dataset for 5 epochs. For this you must create a new Dataset class that produces the ground truth class labels for classification instead of the bounding box annotations as we did in the `FashionMNISTlocalizationDataset` class."
      ]
    },
    {
      "cell_type": "code",
      "execution_count": null,
      "metadata": {
        "id": "TUe3vWipVWBu"
      },
      "outputs": [],
      "source": [
        "def train(model, device, train_loader, optimizer, epoch, mode = 'cls', scheduler=None):\n",
        "    model.train()\n",
        "    loss_values = []\n",
        "    for batch_idx, sample_batched in enumerate(train_loader):\n",
        "        data = sample_batched['image']                                              # ground truth for regression\n",
        "        target = sample_batched['bbox'] if mode == 'reg' else sample_batched['cls'] # ground truth class labels for classification\n",
        "\n",
        "        data, target = data.to(device), target.to(device)\n",
        "        optimizer.zero_grad()\n",
        "        output = model(data)\n",
        "        loss = F.l1_loss(output, target) if mode == 'reg' else F.cross_entropy(output, target) # depenent si fem reg o cls canviarà el loss\n",
        "        loss_values.append(loss.detach().cpu())\n",
        "        loss.backward()\n",
        "        optimizer.step()\n",
        "        if batch_idx % log_interval == 0:\n",
        "            print('Train Epoch: {} [{}/{} ({:.0f}%)]\\tLoss: {:.6f}'.format(\n",
        "                epoch, batch_idx * len(data), len(train_loader.dataset),\n",
        "                100. * batch_idx / len(train_loader), loss.item()))\n",
        "        if scheduler is not None:\n",
        "            scheduler.step()\n",
        "    return loss_values"
      ]
    },
    {
      "cell_type": "code",
      "execution_count": null,
      "metadata": {
        "colab": {
          "base_uri": "https://localhost:8080/"
        },
        "id": "87vOZaMkSCrs",
        "outputId": "2190edf4-1c56-467f-e547-bca182a0a045"
      },
      "outputs": [
        {
          "name": "stdout",
          "output_type": "stream",
          "text": [
            "----------------------------------------------------------------\n",
            "        Layer (type)               Output Shape         Param #\n",
            "================================================================\n",
            "            Conv2d-1            [-1, 8, 32, 32]             208\n",
            "              ReLU-2            [-1, 8, 32, 32]               0\n",
            "            Conv2d-3           [-1, 16, 16, 16]           1,168\n",
            "              ReLU-4           [-1, 16, 16, 16]               0\n",
            "            Conv2d-5             [-1, 32, 8, 8]           4,640\n",
            "              ReLU-6             [-1, 32, 8, 8]               0\n",
            "            Conv2d-7             [-1, 32, 4, 4]           9,248\n",
            "              ReLU-8             [-1, 32, 4, 4]               0\n",
            " AdaptiveAvgPool2d-9             [-1, 32, 1, 1]               0\n",
            "          Flatten-10                   [-1, 32]               0\n",
            "           Linear-11                   [-1, 10]             330\n",
            "================================================================\n",
            "Total params: 15,594\n",
            "Trainable params: 15,594\n",
            "Non-trainable params: 0\n",
            "----------------------------------------------------------------\n",
            "Input size (MB): 0.02\n",
            "Forward/backward pass size (MB): 0.23\n",
            "Params size (MB): 0.06\n",
            "Estimated Total Size (MB): 0.30\n",
            "----------------------------------------------------------------\n"
          ]
        }
      ],
      "source": [
        "class CLS(nn.Module):\n",
        "    def __init__(self):\n",
        "        super(CLS, self).__init__()\n",
        "        self.backbone = nn.Sequential(\n",
        "          nn.Conv2d( 1, 8, 5, padding=2,stride=2), nn.ReLU(), #14\n",
        "          nn.Conv2d( 8,16, 3, padding=1,stride=2), nn.ReLU(), # 7\n",
        "          nn.Conv2d(16,32, 3, padding=1,stride=2), nn.ReLU(), # 4\n",
        "          nn.Conv2d(32,32, 3, padding=1,stride=2), nn.ReLU(), # 2\n",
        "          nn.AdaptiveAvgPool2d(1),\n",
        "          nn.Flatten(),\n",
        "          )\n",
        "        \n",
        "        # Agefim classificació, tenim 10 classes\n",
        "        self.classifier = nn.Linear(32, 10)\n",
        "  \n",
        "        \n",
        "    def forward(self, x):\n",
        "        features = self.backbone(x)\n",
        "        cls = self.classifier(features)\n",
        "        return cls\n",
        "\n",
        "summary(CLS(),(1,64,64),device=\"cpu\")"
      ]
    },
    {
      "cell_type": "markdown",
      "metadata": {
        "id": "_NbYFdnGDmox"
      },
      "source": [
        "> El classificador és molt simple, podríem arribar a complicar-lo tant com volguéssim, per exemple, utilitzant models que hem vist en anteriors pràctiques (Alexnet, VG, etc), així i tot, com la tasca de classificació és senzilla, amb el que hem fet hauria de ser suficient."
      ]
    },
    {
      "cell_type": "code",
      "execution_count": null,
      "metadata": {
        "colab": {
          "base_uri": "https://localhost:8080/"
        },
        "id": "xwGyI4MGpWMX",
        "outputId": "6b2db645-2bd2-4a4b-dd8f-4ea7b5bee16f"
      },
      "outputs": [
        {
          "name": "stdout",
          "output_type": "stream",
          "text": [
            "Train Epoch: 1 [0/60000 (0%)]\tLoss: 2.307965\n",
            "Train Epoch: 1 [6400/60000 (11%)]\tLoss: 2.310452\n",
            "Train Epoch: 1 [12800/60000 (21%)]\tLoss: 2.020543\n",
            "Train Epoch: 1 [19200/60000 (32%)]\tLoss: 1.618694\n",
            "Train Epoch: 1 [25600/60000 (43%)]\tLoss: 1.360551\n",
            "Train Epoch: 1 [32000/60000 (53%)]\tLoss: 0.976940\n",
            "Train Epoch: 1 [38400/60000 (64%)]\tLoss: 1.161664\n",
            "Train Epoch: 1 [44800/60000 (75%)]\tLoss: 0.804607\n",
            "Train Epoch: 1 [51200/60000 (85%)]\tLoss: 0.952730\n",
            "Train Epoch: 1 [57600/60000 (96%)]\tLoss: 0.838891\n",
            "Train Epoch: 2 [0/60000 (0%)]\tLoss: 0.656632\n",
            "Train Epoch: 2 [6400/60000 (11%)]\tLoss: 1.763503\n",
            "Train Epoch: 2 [12800/60000 (21%)]\tLoss: 0.831235\n",
            "Train Epoch: 2 [19200/60000 (32%)]\tLoss: 0.868269\n",
            "Train Epoch: 2 [25600/60000 (43%)]\tLoss: 0.827940\n",
            "Train Epoch: 2 [32000/60000 (53%)]\tLoss: 0.626306\n",
            "Train Epoch: 2 [38400/60000 (64%)]\tLoss: 0.685760\n",
            "Train Epoch: 2 [44800/60000 (75%)]\tLoss: 0.593348\n",
            "Train Epoch: 2 [51200/60000 (85%)]\tLoss: 0.659517\n",
            "Train Epoch: 2 [57600/60000 (96%)]\tLoss: 0.680421\n",
            "Train Epoch: 3 [0/60000 (0%)]\tLoss: 0.676050\n",
            "Train Epoch: 3 [6400/60000 (11%)]\tLoss: 0.920999\n",
            "Train Epoch: 3 [12800/60000 (21%)]\tLoss: 0.651240\n",
            "Train Epoch: 3 [19200/60000 (32%)]\tLoss: 0.578464\n",
            "Train Epoch: 3 [25600/60000 (43%)]\tLoss: 0.786294\n",
            "Train Epoch: 3 [32000/60000 (53%)]\tLoss: 0.581049\n",
            "Train Epoch: 3 [38400/60000 (64%)]\tLoss: 0.529431\n",
            "Train Epoch: 3 [44800/60000 (75%)]\tLoss: 0.641995\n",
            "Train Epoch: 3 [51200/60000 (85%)]\tLoss: 0.584703\n",
            "Train Epoch: 3 [57600/60000 (96%)]\tLoss: 0.656381\n",
            "Train Epoch: 4 [0/60000 (0%)]\tLoss: 0.568444\n",
            "Train Epoch: 4 [6400/60000 (11%)]\tLoss: 0.783516\n",
            "Train Epoch: 4 [12800/60000 (21%)]\tLoss: 0.691798\n",
            "Train Epoch: 4 [19200/60000 (32%)]\tLoss: 0.299692\n",
            "Train Epoch: 4 [25600/60000 (43%)]\tLoss: 0.418948\n",
            "Train Epoch: 4 [32000/60000 (53%)]\tLoss: 0.714876\n",
            "Train Epoch: 4 [38400/60000 (64%)]\tLoss: 0.560684\n",
            "Train Epoch: 4 [44800/60000 (75%)]\tLoss: 0.574848\n",
            "Train Epoch: 4 [51200/60000 (85%)]\tLoss: 0.654076\n",
            "Train Epoch: 4 [57600/60000 (96%)]\tLoss: 0.510320\n",
            "Train Epoch: 5 [0/60000 (0%)]\tLoss: 0.419327\n",
            "Train Epoch: 5 [6400/60000 (11%)]\tLoss: 0.625259\n",
            "Train Epoch: 5 [12800/60000 (21%)]\tLoss: 0.536489\n",
            "Train Epoch: 5 [19200/60000 (32%)]\tLoss: 0.436050\n",
            "Train Epoch: 5 [25600/60000 (43%)]\tLoss: 0.378628\n",
            "Train Epoch: 5 [32000/60000 (53%)]\tLoss: 0.550877\n",
            "Train Epoch: 5 [38400/60000 (64%)]\tLoss: 0.589766\n",
            "Train Epoch: 5 [44800/60000 (75%)]\tLoss: 0.535485\n",
            "Train Epoch: 5 [51200/60000 (85%)]\tLoss: 0.500271\n",
            "Train Epoch: 5 [57600/60000 (96%)]\tLoss: 0.462564\n"
          ]
        }
      ],
      "source": [
        "model = CLS().to(device)\n",
        "\n",
        "lr = 1e-2\n",
        "optimizer = optim.Adam(model.parameters(), lr=lr)\n",
        "\n",
        "epochs = 5\n",
        "scheduler = optim.lr_scheduler.OneCycleLR(optimizer, lr, epochs=epochs, steps_per_epoch=len(train_loader))\n",
        "\n",
        "log_interval = 100 # how many batches to wait before logging training status\n",
        "\n",
        "loss_history_cls = []\n",
        "for epoch in range(1, epochs + 1):\n",
        "    loss_values = train(model, device, train_loader, optimizer, epoch, 'cls', scheduler)\n",
        "    loss_history_cls += loss_values"
      ]
    },
    {
      "cell_type": "markdown",
      "metadata": {
        "id": "eLDUtAKPVMi5"
      },
      "source": [
        "**B)** Plot the training loss curves of the regression model and the classification model in the same figure. We want to compare the two loss curves, so it is important to plot them in the same figure and to set up a legend for the plot. This figure is very important because it will give you a hint for the next exercise."
      ]
    },
    {
      "cell_type": "code",
      "execution_count": null,
      "metadata": {
        "colab": {
          "base_uri": "https://localhost:8080/",
          "height": 281
        },
        "id": "Gps5SSTGWLn5",
        "outputId": "05a18c5f-fe04-4ab0-ba34-694ed97fffcb"
      },
      "outputs": [
        {
          "data": {
            "image/png": "[encoded data removed]",
            "text/plain": [
              "<Figure size 432x288 with 1 Axes>"
            ]
          },
          "metadata": {
            "needs_background": "light"
          },
          "output_type": "display_data"
        }
      ],
      "source": [
        "plt.plot(loss_history_reg, label = \"L1 loss\")\n",
        "plt.plot(loss_history_cls, label = \"CrossEntropyLoss\")\n",
        "plt.legend()\n",
        "plt.title('Regression vs Classification losses')\n",
        "plt.show()"
      ]
    },
    {
      "cell_type": "markdown",
      "metadata": {},
      "source": [
        "> Model optim primera xarxa fa proposta de regió. Aqui no ho fem així, per tant dificulta la tasca de clasificació."
      ]
    },
    {
      "cell_type": "markdown",
      "metadata": {
        "id": "9N-zhanZRdsE"
      },
      "source": [
        "**C)** Modify the regression model adding a classification output, so that it can jointly predict the bounding box of the object and also its class label. This implies you will need to modify: the model (it must have two separate outputs), the Dataset class (to produce the ground truth class label AND the bounding box coordinates), and your training method by adding a new loss that combines a regression loss and a classification loss. Think about how to combine these two losses in a single cost function to be optimized. Hint: look at the figure of exercise (B)."
      ]
    },
    {
      "cell_type": "markdown",
      "metadata": {
        "id": "mu6i1_aAp2Ia"
      },
      "source": [
        "> La pista la dona el plot de l'exercici anterior.\n",
        "\n",
        "> Ara voldrem fusionar les dues xarxes, la de regressió i la de classificació. Amb les sortides corresponents:\n",
        "opcions:\n",
        "\n",
        "- loss = a x LossReg + b x LossClass"
      ]
    },
    {
      "cell_type": "code",
      "execution_count": null,
      "metadata": {
        "colab": {
          "base_uri": "https://localhost:8080/"
        },
        "id": "iKEggN6MR9Ad",
        "outputId": "d459b23e-564b-4dcd-a4cc-a18df8974d06"
      },
      "outputs": [
        {
          "name": "stdout",
          "output_type": "stream",
          "text": [
            "----------------------------------------------------------------\n",
            "        Layer (type)               Output Shape         Param #\n",
            "================================================================\n",
            "            Conv2d-1            [-1, 8, 32, 32]             208\n",
            "              ReLU-2            [-1, 8, 32, 32]               0\n",
            "            Conv2d-3           [-1, 16, 16, 16]           1,168\n",
            "              ReLU-4           [-1, 16, 16, 16]               0\n",
            "            Conv2d-5             [-1, 32, 8, 8]           4,640\n",
            "              ReLU-6             [-1, 32, 8, 8]               0\n",
            "            Conv2d-7             [-1, 32, 4, 4]           9,248\n",
            "              ReLU-8             [-1, 32, 4, 4]               0\n",
            " AdaptiveAvgPool2d-9             [-1, 32, 1, 1]               0\n",
            "          Flatten-10                   [-1, 32]               0\n",
            "           Linear-11                   [-1, 10]             330\n",
            "           Linear-12                    [-1, 4]             132\n",
            "          Sigmoid-13                    [-1, 4]               0\n",
            "================================================================\n",
            "Total params: 15,726\n",
            "Trainable params: 15,726\n",
            "Non-trainable params: 0\n",
            "----------------------------------------------------------------\n",
            "Input size (MB): 0.02\n",
            "Forward/backward pass size (MB): 0.23\n",
            "Params size (MB): 0.06\n",
            "Estimated Total Size (MB): 0.30\n",
            "----------------------------------------------------------------\n"
          ]
        }
      ],
      "source": [
        "class CLS(nn.Module):\n",
        "    def __init__(self):\n",
        "        super(CLS, self).__init__()\n",
        "        self.backbone = nn.Sequential(\n",
        "          nn.Conv2d( 1, 8, 5, padding=2,stride=2), nn.ReLU(), #14\n",
        "          nn.Conv2d( 8,16, 3, padding=1,stride=2), nn.ReLU(), # 7\n",
        "          nn.Conv2d(16,32, 3, padding=1,stride=2), nn.ReLU(), # 4\n",
        "          nn.Conv2d(32,32, 3, padding=1,stride=2), nn.ReLU(), # 2\n",
        "          nn.AdaptiveAvgPool2d(1),\n",
        "          nn.Flatten(),\n",
        "          )\n",
        "        \n",
        "        # Agefim classificació, tenim 10 classes\n",
        "        self.classifier = nn.Linear(32, 10)\n",
        "    \n",
        "        # Afegim la regressió\n",
        "        self.bbox = nn.Sequential(\n",
        "          nn.Linear(32, 4),\n",
        "          nn.Sigmoid()\n",
        "        )\n",
        "        \n",
        "    def forward(self, x):\n",
        "        features = self.backbone(x)\n",
        "        out = self.classifier(features)\n",
        "        bbox = self.bbox(features)\n",
        "\n",
        "        return out, bbox\n",
        "\n",
        "summary(CLS(),(1,64,64),device=\"cpu\")"
      ]
    },
    {
      "cell_type": "code",
      "execution_count": null,
      "metadata": {
        "id": "NOLuR2aOXRoy"
      },
      "outputs": [],
      "source": [
        "def train(model, device, train_loader, optimizer, epoch, scheduler=None, a = 0.1, b = 2.5):\n",
        "    model.train()\n",
        "    loss_values = []\n",
        "    loss_values_reg = []\n",
        "    loss_values_cls = []\n",
        "    for batch_idx, sample_batched in enumerate(train_loader):\n",
        "        data = sample_batched['image']\n",
        "        target_reg = sample_batched['bbox']\n",
        "        target_cls = sample_batched['cls']\n",
        "\n",
        "        data, target_reg, target_cls = data.to(device), target_reg.to(device), target_cls.to(device)\n",
        "        optimizer.zero_grad()\n",
        "        output_cls, output_reg = model(data)\n",
        "        loss_reg = F.l1_loss(output_reg, target_reg)\n",
        "        loss_cls = F.cross_entropy(output_cls, target_cls)\n",
        "        loss = a*loss_cls + b*loss_reg # ponderamos los pesos para darle igual importancia\n",
        "\n",
        "        loss_values.append(loss.detach().cpu())\n",
        "        loss_values_cls.append(loss_cls.detach().cpu())\n",
        "        loss_values_reg.append(loss_reg.detach().cpu())\n",
        "\n",
        "        loss.backward()   # backward sobre la loss ponderada\n",
        "        optimizer.step()\n",
        "        if batch_idx % log_interval == 0:\n",
        "            print('Train Epoch: {} [{}/{} ({:.0f}%)]\\t\\tLoss_cls: {:.6f} \\tLoss_reg: {:.6f}\\tTotal_loss: {:.6f}'.format(\n",
        "                epoch, batch_idx * len(data), len(train_loader.dataset),\n",
        "                100. * batch_idx / len(train_loader), loss_cls.item(),loss_reg.item(),loss.item()))\n",
        "        if scheduler is not None:\n",
        "            scheduler.step()\n",
        "    return loss_values, loss_values_cls, loss_values_reg"
      ]
    },
    {
      "cell_type": "code",
      "execution_count": null,
      "metadata": {
        "colab": {
          "base_uri": "https://localhost:8080/"
        },
        "id": "wIoEIFRFYVzE",
        "outputId": "7ee474a9-01c9-41b1-d78a-c5ba71a49036"
      },
      "outputs": [
        {
          "name": "stdout",
          "output_type": "stream",
          "text": [
            "Train Epoch: 1 [0/60000 (0%)]\t\tLoss_cls: 2.307560 \tLoss_reg: 0.180859\tTotal_loss: 0.682903\n",
            "Train Epoch: 1 [6400/60000 (11%)]\t\tLoss_cls: 2.308008 \tLoss_reg: 0.099283\tTotal_loss: 0.479009\n",
            "Train Epoch: 1 [12800/60000 (21%)]\t\tLoss_cls: 2.240889 \tLoss_reg: 0.092946\tTotal_loss: 0.456454\n",
            "Train Epoch: 1 [19200/60000 (32%)]\t\tLoss_cls: 2.170227 \tLoss_reg: 0.074666\tTotal_loss: 0.403687\n",
            "Train Epoch: 1 [25600/60000 (43%)]\t\tLoss_cls: 2.130913 \tLoss_reg: 0.064357\tTotal_loss: 0.373983\n",
            "Train Epoch: 1 [32000/60000 (53%)]\t\tLoss_cls: 1.909850 \tLoss_reg: 0.053608\tTotal_loss: 0.325006\n",
            "Train Epoch: 1 [38400/60000 (64%)]\t\tLoss_cls: 1.495043 \tLoss_reg: 0.049166\tTotal_loss: 0.272418\n",
            "Train Epoch: 1 [44800/60000 (75%)]\t\tLoss_cls: 1.354784 \tLoss_reg: 0.041031\tTotal_loss: 0.238055\n",
            "Train Epoch: 1 [51200/60000 (85%)]\t\tLoss_cls: 1.150194 \tLoss_reg: 0.053359\tTotal_loss: 0.248416\n",
            "Train Epoch: 1 [57600/60000 (96%)]\t\tLoss_cls: 1.061172 \tLoss_reg: 0.042308\tTotal_loss: 0.211886\n",
            "Train Epoch: 2 [0/60000 (0%)]\t\tLoss_cls: 0.997011 \tLoss_reg: 0.045833\tTotal_loss: 0.214284\n",
            "Train Epoch: 2 [6400/60000 (11%)]\t\tLoss_cls: 1.197661 \tLoss_reg: 0.045478\tTotal_loss: 0.233461\n",
            "Train Epoch: 2 [12800/60000 (21%)]\t\tLoss_cls: 0.980375 \tLoss_reg: 0.036765\tTotal_loss: 0.189949\n",
            "Train Epoch: 2 [19200/60000 (32%)]\t\tLoss_cls: 0.822381 \tLoss_reg: 0.039853\tTotal_loss: 0.181870\n",
            "Train Epoch: 2 [25600/60000 (43%)]\t\tLoss_cls: 0.937197 \tLoss_reg: 0.039015\tTotal_loss: 0.191257\n",
            "Train Epoch: 2 [32000/60000 (53%)]\t\tLoss_cls: 0.896194 \tLoss_reg: 0.034471\tTotal_loss: 0.175798\n",
            "Train Epoch: 2 [38400/60000 (64%)]\t\tLoss_cls: 0.778034 \tLoss_reg: 0.032435\tTotal_loss: 0.158892\n",
            "Train Epoch: 2 [44800/60000 (75%)]\t\tLoss_cls: 0.731481 \tLoss_reg: 0.037927\tTotal_loss: 0.167967\n",
            "Train Epoch: 2 [51200/60000 (85%)]\t\tLoss_cls: 0.892863 \tLoss_reg: 0.034754\tTotal_loss: 0.176171\n",
            "Train Epoch: 2 [57600/60000 (96%)]\t\tLoss_cls: 0.846302 \tLoss_reg: 0.028422\tTotal_loss: 0.155684\n",
            "Train Epoch: 3 [0/60000 (0%)]\t\tLoss_cls: 0.867980 \tLoss_reg: 0.042494\tTotal_loss: 0.193033\n",
            "Train Epoch: 3 [6400/60000 (11%)]\t\tLoss_cls: 0.780432 \tLoss_reg: 0.026426\tTotal_loss: 0.144107\n",
            "Train Epoch: 3 [12800/60000 (21%)]\t\tLoss_cls: 0.767306 \tLoss_reg: 0.024446\tTotal_loss: 0.137845\n",
            "Train Epoch: 3 [19200/60000 (32%)]\t\tLoss_cls: 0.869755 \tLoss_reg: 0.024955\tTotal_loss: 0.149362\n",
            "Train Epoch: 3 [25600/60000 (43%)]\t\tLoss_cls: 0.706253 \tLoss_reg: 0.030383\tTotal_loss: 0.146583\n",
            "Train Epoch: 3 [32000/60000 (53%)]\t\tLoss_cls: 0.790522 \tLoss_reg: 0.025229\tTotal_loss: 0.142126\n",
            "Train Epoch: 3 [38400/60000 (64%)]\t\tLoss_cls: 0.820498 \tLoss_reg: 0.025973\tTotal_loss: 0.146982\n",
            "Train Epoch: 3 [44800/60000 (75%)]\t\tLoss_cls: 0.744534 \tLoss_reg: 0.027213\tTotal_loss: 0.142487\n",
            "Train Epoch: 3 [51200/60000 (85%)]\t\tLoss_cls: 0.758492 \tLoss_reg: 0.023463\tTotal_loss: 0.134507\n",
            "Train Epoch: 3 [57600/60000 (96%)]\t\tLoss_cls: 0.912675 \tLoss_reg: 0.021877\tTotal_loss: 0.145961\n",
            "Train Epoch: 4 [0/60000 (0%)]\t\tLoss_cls: 0.573121 \tLoss_reg: 0.023080\tTotal_loss: 0.115012\n",
            "Train Epoch: 4 [6400/60000 (11%)]\t\tLoss_cls: 0.762174 \tLoss_reg: 0.019268\tTotal_loss: 0.124387\n",
            "Train Epoch: 4 [12800/60000 (21%)]\t\tLoss_cls: 0.866745 \tLoss_reg: 0.019908\tTotal_loss: 0.136443\n",
            "Train Epoch: 4 [19200/60000 (32%)]\t\tLoss_cls: 0.674645 \tLoss_reg: 0.019114\tTotal_loss: 0.115250\n",
            "Train Epoch: 4 [25600/60000 (43%)]\t\tLoss_cls: 0.619904 \tLoss_reg: 0.017036\tTotal_loss: 0.104581\n",
            "Train Epoch: 4 [32000/60000 (53%)]\t\tLoss_cls: 0.696954 \tLoss_reg: 0.019236\tTotal_loss: 0.117784\n",
            "Train Epoch: 4 [38400/60000 (64%)]\t\tLoss_cls: 0.603726 \tLoss_reg: 0.021822\tTotal_loss: 0.114928\n",
            "Train Epoch: 4 [44800/60000 (75%)]\t\tLoss_cls: 0.630092 \tLoss_reg: 0.019416\tTotal_loss: 0.111548\n",
            "Train Epoch: 4 [51200/60000 (85%)]\t\tLoss_cls: 0.626199 \tLoss_reg: 0.015395\tTotal_loss: 0.101108\n",
            "Train Epoch: 4 [57600/60000 (96%)]\t\tLoss_cls: 0.868020 \tLoss_reg: 0.014888\tTotal_loss: 0.124021\n",
            "Train Epoch: 5 [0/60000 (0%)]\t\tLoss_cls: 0.696767 \tLoss_reg: 0.019335\tTotal_loss: 0.118015\n",
            "Train Epoch: 5 [6400/60000 (11%)]\t\tLoss_cls: 0.562923 \tLoss_reg: 0.018455\tTotal_loss: 0.102430\n",
            "Train Epoch: 5 [12800/60000 (21%)]\t\tLoss_cls: 0.636986 \tLoss_reg: 0.017476\tTotal_loss: 0.107390\n",
            "Train Epoch: 5 [19200/60000 (32%)]\t\tLoss_cls: 0.899221 \tLoss_reg: 0.016779\tTotal_loss: 0.131870\n",
            "Train Epoch: 5 [25600/60000 (43%)]\t\tLoss_cls: 0.650661 \tLoss_reg: 0.019314\tTotal_loss: 0.113352\n",
            "Train Epoch: 5 [32000/60000 (53%)]\t\tLoss_cls: 0.492905 \tLoss_reg: 0.013888\tTotal_loss: 0.084010\n",
            "Train Epoch: 5 [38400/60000 (64%)]\t\tLoss_cls: 0.631939 \tLoss_reg: 0.014082\tTotal_loss: 0.098399\n",
            "Train Epoch: 5 [44800/60000 (75%)]\t\tLoss_cls: 0.803768 \tLoss_reg: 0.018801\tTotal_loss: 0.127379\n",
            "Train Epoch: 5 [51200/60000 (85%)]\t\tLoss_cls: 0.821434 \tLoss_reg: 0.015795\tTotal_loss: 0.121631\n",
            "Train Epoch: 5 [57600/60000 (96%)]\t\tLoss_cls: 0.584197 \tLoss_reg: 0.014457\tTotal_loss: 0.094562\n"
          ]
        }
      ],
      "source": [
        "model = CLS().to(device)\n",
        "\n",
        "lr = 1e-2\n",
        "optimizer = optim.Adam(model.parameters(), lr=lr)\n",
        "\n",
        "epochs = 5\n",
        "scheduler = optim.lr_scheduler.OneCycleLR(optimizer, lr, epochs=epochs, steps_per_epoch=len(train_loader))\n",
        "\n",
        "log_interval = 100 # how many batches to wait before logging training status\n",
        "\n",
        "combination_loss_history = []\n",
        "combination_loss_cls = []\n",
        "combination_loss_reg = []\n",
        "for epoch in range(1, epochs + 1):\n",
        "    loss_values, loss_values_cls, loss_values_reg = train(model, device, train_loader, optimizer, epoch, scheduler)\n",
        "    combination_loss_history += loss_values\n",
        "    combination_loss_cls += loss_values_cls\n",
        "    combination_loss_reg += loss_values_reg"
      ]
    },
    {
      "cell_type": "code",
      "execution_count": null,
      "metadata": {
        "colab": {
          "base_uri": "https://localhost:8080/",
          "height": 417
        },
        "id": "zSfnXk2HFOu8",
        "outputId": "81a831b9-98bf-41ab-fe5a-c9e1ffc43c89"
      },
      "outputs": [
        {
          "data": {
            "image/png": "[encoded data removed]",
            "text/plain": [
              "<Figure size 1296x432 with 2 Axes>"
            ]
          },
          "metadata": {
            "needs_background": "light"
          },
          "output_type": "display_data"
        }
      ],
      "source": [
        "# plot the losses and accuracies\n",
        "fig, (ax1, ax2) = plt.subplots(1, 2, figsize=(18, 6))\n",
        "\n",
        "\n",
        "ax1.plot(combination_loss_history, label= \"Combination training loss\")\n",
        "ax1.set_title(\"L1 + Cross ENtropy training loss\")\n",
        "ax1.legend()\n",
        "\n",
        "ax2.plot(combination_loss_reg, label= \"L1 Loss - regression\")\n",
        "ax2.plot(combination_loss_cls, label= \"CrossEntropy Loss - classification\")\n",
        "ax2.plot(combination_loss_history, label= \"Combination training loss\")\n",
        "ax2.set_title(\"Training losses\")\n",
        "ax2.legend()\n",
        "\n",
        "\n",
        "fig.suptitle(\"Mètriques - Losses\", fontsize = 20)\n",
        "plt.show()  "
      ]
    },
    {
      "cell_type": "markdown",
      "metadata": {
        "id": "UzTbQjW0ifgy"
      },
      "source": [
        "**D)** Evaluate the trained model for the joint classification and localization task. You must modify the test method to count a given prediction as correct if it correctly localizes the object AND predicts the correct label."
      ]
    },
    {
      "cell_type": "code",
      "execution_count": null,
      "metadata": {
        "colab": {
          "base_uri": "https://localhost:8080/"
        },
        "id": "2SEeZQvJaQyo",
        "outputId": "6a8b2284-b07c-48b0-8f58-efd3655ea50b"
      },
      "outputs": [
        {
          "name": "stdout",
          "output_type": "stream",
          "text": [
            "\n",
            "Test set: Average loss: 0.1065, Accuracy: 7462/10000 (75%)\n",
            "\n"
          ]
        }
      ],
      "source": [
        "def test(model, device, test_loader, a = 0.1, b = 2.5):\n",
        "    model.eval()\n",
        "    test_loss = 0\n",
        "    correct = 0\n",
        "    with torch.no_grad():\n",
        "        for batch_idx, sample_batched in enumerate(test_loader):\n",
        "            data = sample_batched['image']\n",
        "            target_reg = sample_batched['bbox']\n",
        "            target_cls = sample_batched['cls']\n",
        "\n",
        "            data, target_reg, target_cls = data.to(device), target_reg.to(device), target_cls.to(device)\n",
        "            output_cls, output_reg = model(data)\n",
        "            test_loss_cls = F.cross_entropy(output_cls, target_cls).item()\n",
        "            test_loss_reg = F.l1_loss(output_reg, target_reg).item()\n",
        "            test_loss += (a*test_loss_cls + b*test_loss_reg)\n",
        "            \n",
        "            correct_bb = IoU(output_reg.cpu().numpy(), target_reg.cpu().numpy(), iou_threshold = 0.5)\n",
        "            for i in range(len(correct_bb)):\n",
        "              if correct_bb[i] and torch.argmax(output_cls[i].cpu()) == target_cls[i].cpu():\n",
        "                  correct += 1\n",
        "\n",
        "    test_loss /= (len(test_loader.dataset)/test_loader.batch_size)\n",
        "\n",
        "    print('\\nTest set: Average loss: {:.4f}, Accuracy: {}/{} ({:.0f}%)\\n'.format(\n",
        "        test_loss, correct, len(test_loader.dataset),\n",
        "        100. * correct / len(test_loader.dataset)))\n",
        "    \n",
        "\n",
        "# call the test method\n",
        "test(model, device, test_loader)"
      ]
    },
    {
      "cell_type": "markdown",
      "metadata": {
        "id": "lWI7d8VsRs-e"
      },
      "source": [
        "**E)** (OPTIONAL EXERCISE) Modify the model so it can also detect if an input image contains no object. For this you must add another regression output for the digit confidence (a value between 0. and 1. indicating the presence of an object). This implies you will need to modify the Dataset class to generate images without digits. Also, during training you must take care of not backpropagating the bounding box and classification losses when there is no digit. \n",
        "\n",
        "To make the problem more difficult and interesting we can add some noise to the images and see how the performance of the model drops. See [this link](https://discuss.pytorch.org/t/how-to-add-noise-to-mnist-dataset-when-using-pytorch/59745) on how to create a custom transform for adding random noise on images.\n",
        "\n",
        "Use `matplotlib.pyplot.boxplot` to visualize the average confidence per class before and after adding noise to the images."
      ]
    },
    {
      "cell_type": "code",
      "execution_count": null,
      "metadata": {
        "id": "LnmApmlpfxx4"
      },
      "outputs": [],
      "source": [
        "from random import randint, seed\n",
        "seed(2)\n",
        "\n",
        "\n",
        "class FashionMNISTlocalizationDataset(Dataset):\n",
        "    \"\"\"MNIST localization toy dataset.\"\"\"\n",
        "\n",
        "    def __init__(self, imgsize=(64,64), train=True, transform=None):\n",
        "        \"\"\"\n",
        "        Args:\n",
        "            imgsize (tuple (int,int), optional) - the size of generated images,\n",
        "                both width and height must be > 48\n",
        "            train (bool, optional) – If True, creates dataset from MNIST training\n",
        "                samples, otherwise from test\n",
        "            transform (callable, optional): Optional transform to be applied\n",
        "                on a sample.\n",
        "        \"\"\"\n",
        "        assert len(imgsize)==2 and imgsize[0] > 48 and imgsize[1] > 48\n",
        "        self.imgsize = imgsize\n",
        "        self.transform = transform\n",
        "        self.fashionMnist = datasets.FashionMNIST('../data', train=train, download=True) # càrreguem el MNIST amb les transformacions com a pàrametre\n",
        "\n",
        "    def __len__(self):\n",
        "        return self.fashionMnist.data.shape[0] # num d'exemples del dataset\n",
        "\n",
        "    def __getitem__(self, idx):\n",
        "        if torch.is_tensor(idx):\n",
        "            idx = idx.tolist()\n",
        "        # create a black image\n",
        "        image = torch.zeros(self.imgsize)\n",
        "        image_width, image_height = self.imgsize\n",
        "        \n",
        "        prob_img_with_digits = randint(0, 100)\n",
        "        if (prob_img_with_digits) > 80:\n",
        "            # Get one Fashion-MNIST object, resize it randomly, and copy it into\n",
        "            # a random location of the black image\n",
        "            object_img = self.fashionMnist.data[idx,:,:]\n",
        "\n",
        "            # Get label of the image\n",
        "            label_img = self.fashionMnist.targets[idx]\n",
        "\n",
        "            object_width  = object_height = np.random.randint(19,47)\n",
        "\n",
        "            object_img = resize(object_img, (object_height, object_width))\n",
        "\n",
        "            x_offset = np.random.randint(0,image_width-object_width)\n",
        "            y_offset = np.random.randint(0,image_height-object_height)\n",
        "\n",
        "            image[y_offset:y_offset+object_height, x_offset:x_offset+object_width] += object_img\n",
        "            \n",
        "            image = image.reshape((1,)+self.imgsize) # must be a tensor image of size (C, H, W)\n",
        "            \n",
        "            if self.transform:\n",
        "                image = self.transform(image)\n",
        "\n",
        "            # normalize the target values (bounding box coordinates) so they are real numbers from 0. to 1.\n",
        "            # per poder reutilitzar la xarxa per altres imatges, utilitzem coordenades relatives (no pixels d'imatge)\n",
        "            bbox = np.array([x_offset / image_width, y_offset / image_height, \n",
        "                            object_width / image_width, object_height / image_height], dtype=np.float32)\n",
        "\n",
        "        else:\n",
        "            # Image without digits\n",
        "            bbox = np.array([0,0,0,0], dtype=np.float32)\n",
        "            label_img = torch.tensor(0)\n",
        "              \n",
        "        sample = {'image': image, 'bbox': bbox, 'cls': label_img}\n",
        "\n",
        "        return sample"
      ]
    },
    {
      "cell_type": "code",
      "execution_count": null,
      "metadata": {
        "id": "XQc9g-dFhOAh"
      },
      "outputs": [],
      "source": [
        "# Add random noise to images\n",
        "class AddGaussianNoise(object):\n",
        "    def __init__(self, mean=0., std=1.):\n",
        "        self.std = std\n",
        "        self.mean = mean\n",
        "        \n",
        "    def __call__(self, tensor):\n",
        "        return tensor + torch.randn(tensor.size()) * self.std + self.mean\n",
        "    \n",
        "    def __repr__(self):\n",
        "        return self.__class__.__name__ + '(mean={0}, std={1})'.format(self.mean, self.std)"
      ]
    },
    {
      "cell_type": "code",
      "execution_count": null,
      "metadata": {
        "id": "y9YpnlbHhb0C"
      },
      "outputs": [],
      "source": [
        "transform = transforms.Compose([\n",
        "        transforms.Normalize((0.1307,), (0.3081,)),\n",
        "        transforms.RandomApply([AddGaussianNoise(0., 1.)], p = 0.5)\n",
        "        ])\n",
        "\n",
        "dataset1 = FashionMNISTlocalizationDataset(train=True, transform=transform)\n",
        "dataset2 = FashionMNISTlocalizationDataset(train=False, transform=transform)\n",
        "\n",
        "train_kwargs = {'batch_size': 64}\n",
        "test_kwargs  = {'batch_size': 1000}\n",
        "\n",
        "if use_cuda:\n",
        "    cuda_kwargs = {'num_workers': 1,\n",
        "                   'pin_memory': True,\n",
        "                   'shuffle': True}\n",
        "    train_kwargs.update(cuda_kwargs)\n",
        "    test_kwargs.update(cuda_kwargs)\n",
        "\n",
        "train_loader = DataLoader(dataset1, **train_kwargs)\n",
        "test_loader = DataLoader(dataset2, **test_kwargs)"
      ]
    },
    {
      "cell_type": "code",
      "execution_count": null,
      "metadata": {
        "id": "FdmqiYAqjCfC"
      },
      "outputs": [],
      "source": [
        "def train(model, device, train_loader, optimizer, epoch, scheduler=None):\n",
        "    model.train()\n",
        "    loss_values = []\n",
        "    loss_values_reg = []\n",
        "    loss_values_cls = []\n",
        "    for batch_idx, sample_batched in enumerate(train_loader):\n",
        "        data = sample_batched['image']\n",
        "        target_reg = sample_batched['bbox']\n",
        "        target_cls = sample_batched['cls']\n",
        "\n",
        "        data, target_reg, target_cls = data.to(device), target_reg.to(device), target_cls.to(device)\n",
        "        optimizer.zero_grad()\n",
        "        output_cls, output_reg = model(data)\n",
        "        loss_reg = F.l1_loss(output_reg, target_reg)\n",
        "        loss_cls = F.cross_entropy(output_cls, target_cls)\n",
        "        loss = 0.1*loss_cls + 0.9*loss_reg #ponderamos los pesos para darle igual importancia\n",
        "\n",
        "        loss_values.append(loss.detach().cpu())\n",
        "        loss_values_cls.append(loss_cls.detach().cpu())\n",
        "        loss_values_reg.append(loss_reg.detach().cpu())\n",
        "        loss.backward()\n",
        "        optimizer.step()\n",
        "        if batch_idx % log_interval == 0:\n",
        "            print('Train Epoch: {} [{}/{} ({:.0f}%)]\\t\\tLoss_cls: {:.6f} \\tLoss_reg: {:.6f}\\tTotal_loss: {:.6f}'.format(\n",
        "                epoch, batch_idx * len(data), len(train_loader.dataset),\n",
        "                100. * batch_idx / len(train_loader), loss_cls.item(),loss_reg.item(),loss.item()))\n",
        "        if scheduler is not None:\n",
        "            scheduler.step()\n",
        "    return loss_values, loss_values_cls, loss_values_reg"
      ]
    }
  ],
  "metadata": {
    "accelerator": "GPU",
    "colab": {
      "collapsed_sections": [],
      "name": "Copia de W11_01_CNN_ObjectLocalization(1).ipynb",
      "provenance": []
    },
    "kernelspec": {
      "display_name": "Python 3",
      "language": "python",
      "name": "python3"
    },
    "language_info": {
      "codemirror_mode": {
        "name": "ipython",
        "version": 3
      },
      "file_extension": ".py",
      "mimetype": "text/x-python",
      "name": "python",
      "nbconvert_exporter": "python",
      "pygments_lexer": "ipython3",
      "version": "3.6.9"
    },
    "widgets": {
      "application/vnd.jupyter.widget-state+json": {
        "0062bd5133424a2bae436398616afb0f": {
          "model_module": "@jupyter-widgets/controls",
          "model_module_version": "1.5.0",
          "model_name": "DescriptionStyleModel",
          "state": {
            "_model_module": "@jupyter-widgets/controls",
            "_model_module_version": "1.5.0",
            "_model_name": "DescriptionStyleModel",
            "_view_count": null,
            "_view_module": "@jupyter-widgets/base",
            "_view_module_version": "1.2.0",
            "_view_name": "StyleView",
            "description_width": ""
          }
        },
        "0290729c888e439396da95c2be11276b": {
          "model_module": "@jupyter-widgets/base",
          "model_module_version": "1.2.0",
          "model_name": "LayoutModel",
          "state": {
            "_model_module": "@jupyter-widgets/base",
            "_model_module_version": "1.2.0",
            "_model_name": "LayoutModel",
            "_view_count": null,
            "_view_module": "@jupyter-widgets/base",
            "_view_module_version": "1.2.0",
            "_view_name": "LayoutView",
            "align_content": null,
            "align_items": null,
            "align_self": null,
            "border": null,
            "bottom": null,
            "display": null,
            "flex": null,
            "flex_flow": null,
            "grid_area": null,
            "grid_auto_columns": null,
            "grid_auto_flow": null,
            "grid_auto_rows": null,
            "grid_column": null,
            "grid_gap": null,
            "grid_row": null,
            "grid_template_areas": null,
            "grid_template_columns": null,
            "grid_template_rows": null,
            "height": null,
            "justify_content": null,
            "justify_items": null,
            "left": null,
            "margin": null,
            "max_height": null,
            "max_width": null,
            "min_height": null,
            "min_width": null,
            "object_fit": null,
            "object_position": null,
            "order": null,
            "overflow": null,
            "overflow_x": null,
            "overflow_y": null,
            "padding": null,
            "right": null,
            "top": null,
            "visibility": null,
            "width": null
          }
        },
        "1dd43c9c86b84e64b0397aeee6082f0d": {
          "model_module": "@jupyter-widgets/controls",
          "model_module_version": "1.5.0",
          "model_name": "HTMLModel",
          "state": {
            "_dom_classes": [],
            "_model_module": "@jupyter-widgets/controls",
            "_model_module_version": "1.5.0",
            "_model_name": "HTMLModel",
            "_view_count": null,
            "_view_module": "@jupyter-widgets/controls",
            "_view_module_version": "1.5.0",
            "_view_name": "HTMLView",
            "description": "",
            "description_tooltip": null,
            "layout": "IPY_MODEL_953498a0ddfe4d11b43e3807460199f4",
            "placeholder": "​",
            "style": "IPY_MODEL_5714d22dcbcf423d942c6b3a9b8f9cb6",
            "value": " 6144/? [00:00&lt;00:00, 160900.37it/s]"
          }
        },
        "1e12175fcbda426fbc03729a8d947b34": {
          "model_module": "@jupyter-widgets/controls",
          "model_module_version": "1.5.0",
          "model_name": "FloatProgressModel",
          "state": {
            "_dom_classes": [],
            "_model_module": "@jupyter-widgets/controls",
            "_model_module_version": "1.5.0",
            "_model_name": "FloatProgressModel",
            "_view_count": null,
            "_view_module": "@jupyter-widgets/controls",
            "_view_module_version": "1.5.0",
            "_view_name": "ProgressView",
            "bar_style": "success",
            "description": "",
            "description_tooltip": null,
            "layout": "IPY_MODEL_641cd9af0e764b1e8ea17a16982c43f1",
            "max": 29515,
            "min": 0,
            "orientation": "horizontal",
            "style": "IPY_MODEL_f75812d61f2b439797f77fa2182b90b7",
            "value": 29515
          }
        },
        "204a26e680f74e4e9de470bda5e0c16f": {
          "model_module": "@jupyter-widgets/base",
          "model_module_version": "1.2.0",
          "model_name": "LayoutModel",
          "state": {
            "_model_module": "@jupyter-widgets/base",
            "_model_module_version": "1.2.0",
            "_model_name": "LayoutModel",
            "_view_count": null,
            "_view_module": "@jupyter-widgets/base",
            "_view_module_version": "1.2.0",
            "_view_name": "LayoutView",
            "align_content": null,
            "align_items": null,
            "align_self": null,
            "border": null,
            "bottom": null,
            "display": null,
            "flex": null,
            "flex_flow": null,
            "grid_area": null,
            "grid_auto_columns": null,
            "grid_auto_flow": null,
            "grid_auto_rows": null,
            "grid_column": null,
            "grid_gap": null,
            "grid_row": null,
            "grid_template_areas": null,
            "grid_template_columns": null,
            "grid_template_rows": null,
            "height": null,
            "justify_content": null,
            "justify_items": null,
            "left": null,
            "margin": null,
            "max_height": null,
            "max_width": null,
            "min_height": null,
            "min_width": null,
            "object_fit": null,
            "object_position": null,
            "order": null,
            "overflow": null,
            "overflow_x": null,
            "overflow_y": null,
            "padding": null,
            "right": null,
            "top": null,
            "visibility": null,
            "width": null
          }
        },
        "219dd97f7617408b9f662971df22fbf8": {
          "model_module": "@jupyter-widgets/controls",
          "model_module_version": "1.5.0",
          "model_name": "ProgressStyleModel",
          "state": {
            "_model_module": "@jupyter-widgets/controls",
            "_model_module_version": "1.5.0",
            "_model_name": "ProgressStyleModel",
            "_view_count": null,
            "_view_module": "@jupyter-widgets/base",
            "_view_module_version": "1.2.0",
            "_view_name": "StyleView",
            "bar_color": null,
            "description_width": ""
          }
        },
        "2488069390a74df88211dc4730cae5f6": {
          "model_module": "@jupyter-widgets/controls",
          "model_module_version": "1.5.0",
          "model_name": "HTMLModel",
          "state": {
            "_dom_classes": [],
            "_model_module": "@jupyter-widgets/controls",
            "_model_module_version": "1.5.0",
            "_model_name": "HTMLModel",
            "_view_count": null,
            "_view_module": "@jupyter-widgets/controls",
            "_view_module_version": "1.5.0",
            "_view_name": "HTMLView",
            "description": "",
            "description_tooltip": null,
            "layout": "IPY_MODEL_4d34e7b39dd048d0918046f601fae764",
            "placeholder": "​",
            "style": "IPY_MODEL_cdcef1733f8b43f59e05e0dadb7d3f64",
            "value": ""
          }
        },
        "27e1a3088eec4b1f9652f3675108fd82": {
          "model_module": "@jupyter-widgets/controls",
          "model_module_version": "1.5.0",
          "model_name": "DescriptionStyleModel",
          "state": {
            "_model_module": "@jupyter-widgets/controls",
            "_model_module_version": "1.5.0",
            "_model_name": "DescriptionStyleModel",
            "_view_count": null,
            "_view_module": "@jupyter-widgets/base",
            "_view_module_version": "1.2.0",
            "_view_name": "StyleView",
            "description_width": ""
          }
        },
        "2ce3ca845fb04e7f804a5cabb16d8488": {
          "model_module": "@jupyter-widgets/controls",
          "model_module_version": "1.5.0",
          "model_name": "FloatProgressModel",
          "state": {
            "_dom_classes": [],
            "_model_module": "@jupyter-widgets/controls",
            "_model_module_version": "1.5.0",
            "_model_name": "FloatProgressModel",
            "_view_count": null,
            "_view_module": "@jupyter-widgets/controls",
            "_view_module_version": "1.5.0",
            "_view_name": "ProgressView",
            "bar_style": "success",
            "description": "",
            "description_tooltip": null,
            "layout": "IPY_MODEL_204a26e680f74e4e9de470bda5e0c16f",
            "max": 4422102,
            "min": 0,
            "orientation": "horizontal",
            "style": "IPY_MODEL_cf595bed393744aba104cae071c28fe5",
            "value": 4422102
          }
        },
        "396919fa1aee4caf868e68c1ad49eb55": {
          "model_module": "@jupyter-widgets/controls",
          "model_module_version": "1.5.0",
          "model_name": "HBoxModel",
          "state": {
            "_dom_classes": [],
            "_model_module": "@jupyter-widgets/controls",
            "_model_module_version": "1.5.0",
            "_model_name": "HBoxModel",
            "_view_count": null,
            "_view_module": "@jupyter-widgets/controls",
            "_view_module_version": "1.5.0",
            "_view_name": "HBoxView",
            "box_style": "",
            "children": [
              "IPY_MODEL_7cbcffd488794d8f82e0b8e4eb69c908",
              "IPY_MODEL_2ce3ca845fb04e7f804a5cabb16d8488",
              "IPY_MODEL_ed75792142ad4b06aa1d98f576f4a758"
            ],
            "layout": "IPY_MODEL_c0553b840c164efe95a36b5650c83e03"
          }
        },
        "43668733448b40bdab17e05a1509f801": {
          "model_module": "@jupyter-widgets/controls",
          "model_module_version": "1.5.0",
          "model_name": "HBoxModel",
          "state": {
            "_dom_classes": [],
            "_model_module": "@jupyter-widgets/controls",
            "_model_module_version": "1.5.0",
            "_model_name": "HBoxModel",
            "_view_count": null,
            "_view_module": "@jupyter-widgets/controls",
            "_view_module_version": "1.5.0",
            "_view_name": "HBoxView",
            "box_style": "",
            "children": [
              "IPY_MODEL_cda8d460bc234041abfce597dd14493f",
              "IPY_MODEL_1e12175fcbda426fbc03729a8d947b34",
              "IPY_MODEL_c9cf2f743e714ab482913b3f38bbb518"
            ],
            "layout": "IPY_MODEL_f4da0bbe98de4dbd8bc10d9b1f2adb3e"
          }
        },
        "4a22ff91c78247188bef45b31c636161": {
          "model_module": "@jupyter-widgets/controls",
          "model_module_version": "1.5.0",
          "model_name": "FloatProgressModel",
          "state": {
            "_dom_classes": [],
            "_model_module": "@jupyter-widgets/controls",
            "_model_module_version": "1.5.0",
            "_model_name": "FloatProgressModel",
            "_view_count": null,
            "_view_module": "@jupyter-widgets/controls",
            "_view_module_version": "1.5.0",
            "_view_name": "ProgressView",
            "bar_style": "success",
            "description": "",
            "description_tooltip": null,
            "layout": "IPY_MODEL_82e00f6f63644172ab0ed6112bd999e3",
            "max": 5148,
            "min": 0,
            "orientation": "horizontal",
            "style": "IPY_MODEL_219dd97f7617408b9f662971df22fbf8",
            "value": 5148
          }
        },
        "4d34e7b39dd048d0918046f601fae764": {
          "model_module": "@jupyter-widgets/base",
          "model_module_version": "1.2.0",
          "model_name": "LayoutModel",
          "state": {
            "_model_module": "@jupyter-widgets/base",
            "_model_module_version": "1.2.0",
            "_model_name": "LayoutModel",
            "_view_count": null,
            "_view_module": "@jupyter-widgets/base",
            "_view_module_version": "1.2.0",
            "_view_name": "LayoutView",
            "align_content": null,
            "align_items": null,
            "align_self": null,
            "border": null,
            "bottom": null,
            "display": null,
            "flex": null,
            "flex_flow": null,
            "grid_area": null,
            "grid_auto_columns": null,
            "grid_auto_flow": null,
            "grid_auto_rows": null,
            "grid_column": null,
            "grid_gap": null,
            "grid_row": null,
            "grid_template_areas": null,
            "grid_template_columns": null,
            "grid_template_rows": null,
            "height": null,
            "justify_content": null,
            "justify_items": null,
            "left": null,
            "margin": null,
            "max_height": null,
            "max_width": null,
            "min_height": null,
            "min_width": null,
            "object_fit": null,
            "object_position": null,
            "order": null,
            "overflow": null,
            "overflow_x": null,
            "overflow_y": null,
            "padding": null,
            "right": null,
            "top": null,
            "visibility": null,
            "width": null
          }
        },
        "56325ddc43d0457189213bbb42621d35": {
          "model_module": "@jupyter-widgets/base",
          "model_module_version": "1.2.0",
          "model_name": "LayoutModel",
          "state": {
            "_model_module": "@jupyter-widgets/base",
            "_model_module_version": "1.2.0",
            "_model_name": "LayoutModel",
            "_view_count": null,
            "_view_module": "@jupyter-widgets/base",
            "_view_module_version": "1.2.0",
            "_view_name": "LayoutView",
            "align_content": null,
            "align_items": null,
            "align_self": null,
            "border": null,
            "bottom": null,
            "display": null,
            "flex": null,
            "flex_flow": null,
            "grid_area": null,
            "grid_auto_columns": null,
            "grid_auto_flow": null,
            "grid_auto_rows": null,
            "grid_column": null,
            "grid_gap": null,
            "grid_row": null,
            "grid_template_areas": null,
            "grid_template_columns": null,
            "grid_template_rows": null,
            "height": null,
            "justify_content": null,
            "justify_items": null,
            "left": null,
            "margin": null,
            "max_height": null,
            "max_width": null,
            "min_height": null,
            "min_width": null,
            "object_fit": null,
            "object_position": null,
            "order": null,
            "overflow": null,
            "overflow_x": null,
            "overflow_y": null,
            "padding": null,
            "right": null,
            "top": null,
            "visibility": null,
            "width": null
          }
        },
        "5714d22dcbcf423d942c6b3a9b8f9cb6": {
          "model_module": "@jupyter-widgets/controls",
          "model_module_version": "1.5.0",
          "model_name": "DescriptionStyleModel",
          "state": {
            "_model_module": "@jupyter-widgets/controls",
            "_model_module_version": "1.5.0",
            "_model_name": "DescriptionStyleModel",
            "_view_count": null,
            "_view_module": "@jupyter-widgets/base",
            "_view_module_version": "1.2.0",
            "_view_name": "StyleView",
            "description_width": ""
          }
        },
        "60b1fc24928b40e5963bb94b47193269": {
          "model_module": "@jupyter-widgets/controls",
          "model_module_version": "1.5.0",
          "model_name": "FloatProgressModel",
          "state": {
            "_dom_classes": [],
            "_model_module": "@jupyter-widgets/controls",
            "_model_module_version": "1.5.0",
            "_model_name": "FloatProgressModel",
            "_view_count": null,
            "_view_module": "@jupyter-widgets/controls",
            "_view_module_version": "1.5.0",
            "_view_name": "ProgressView",
            "bar_style": "success",
            "description": "",
            "description_tooltip": null,
            "layout": "IPY_MODEL_711054e12f984ad98186a7756d9d0869",
            "max": 26421880,
            "min": 0,
            "orientation": "horizontal",
            "style": "IPY_MODEL_edf75985d9d74981b348895ba075a506",
            "value": 26421880
          }
        },
        "641cd9af0e764b1e8ea17a16982c43f1": {
          "model_module": "@jupyter-widgets/base",
          "model_module_version": "1.2.0",
          "model_name": "LayoutModel",
          "state": {
            "_model_module": "@jupyter-widgets/base",
            "_model_module_version": "1.2.0",
            "_model_name": "LayoutModel",
            "_view_count": null,
            "_view_module": "@jupyter-widgets/base",
            "_view_module_version": "1.2.0",
            "_view_name": "LayoutView",
            "align_content": null,
            "align_items": null,
            "align_self": null,
            "border": null,
            "bottom": null,
            "display": null,
            "flex": null,
            "flex_flow": null,
            "grid_area": null,
            "grid_auto_columns": null,
            "grid_auto_flow": null,
            "grid_auto_rows": null,
            "grid_column": null,
            "grid_gap": null,
            "grid_row": null,
            "grid_template_areas": null,
            "grid_template_columns": null,
            "grid_template_rows": null,
            "height": null,
            "justify_content": null,
            "justify_items": null,
            "left": null,
            "margin": null,
            "max_height": null,
            "max_width": null,
            "min_height": null,
            "min_width": null,
            "object_fit": null,
            "object_position": null,
            "order": null,
            "overflow": null,
            "overflow_x": null,
            "overflow_y": null,
            "padding": null,
            "right": null,
            "top": null,
            "visibility": null,
            "width": null
          }
        },
        "69eec4ae5a534576bfaefbd06c3a63b4": {
          "model_module": "@jupyter-widgets/controls",
          "model_module_version": "1.5.0",
          "model_name": "DescriptionStyleModel",
          "state": {
            "_model_module": "@jupyter-widgets/controls",
            "_model_module_version": "1.5.0",
            "_model_name": "DescriptionStyleModel",
            "_view_count": null,
            "_view_module": "@jupyter-widgets/base",
            "_view_module_version": "1.2.0",
            "_view_name": "StyleView",
            "description_width": ""
          }
        },
        "7035798a82454195b0d3e9dac1909538": {
          "model_module": "@jupyter-widgets/base",
          "model_module_version": "1.2.0",
          "model_name": "LayoutModel",
          "state": {
            "_model_module": "@jupyter-widgets/base",
            "_model_module_version": "1.2.0",
            "_model_name": "LayoutModel",
            "_view_count": null,
            "_view_module": "@jupyter-widgets/base",
            "_view_module_version": "1.2.0",
            "_view_name": "LayoutView",
            "align_content": null,
            "align_items": null,
            "align_self": null,
            "border": null,
            "bottom": null,
            "display": null,
            "flex": null,
            "flex_flow": null,
            "grid_area": null,
            "grid_auto_columns": null,
            "grid_auto_flow": null,
            "grid_auto_rows": null,
            "grid_column": null,
            "grid_gap": null,
            "grid_row": null,
            "grid_template_areas": null,
            "grid_template_columns": null,
            "grid_template_rows": null,
            "height": null,
            "justify_content": null,
            "justify_items": null,
            "left": null,
            "margin": null,
            "max_height": null,
            "max_width": null,
            "min_height": null,
            "min_width": null,
            "object_fit": null,
            "object_position": null,
            "order": null,
            "overflow": null,
            "overflow_x": null,
            "overflow_y": null,
            "padding": null,
            "right": null,
            "top": null,
            "visibility": null,
            "width": null
          }
        },
        "711054e12f984ad98186a7756d9d0869": {
          "model_module": "@jupyter-widgets/base",
          "model_module_version": "1.2.0",
          "model_name": "LayoutModel",
          "state": {
            "_model_module": "@jupyter-widgets/base",
            "_model_module_version": "1.2.0",
            "_model_name": "LayoutModel",
            "_view_count": null,
            "_view_module": "@jupyter-widgets/base",
            "_view_module_version": "1.2.0",
            "_view_name": "LayoutView",
            "align_content": null,
            "align_items": null,
            "align_self": null,
            "border": null,
            "bottom": null,
            "display": null,
            "flex": null,
            "flex_flow": null,
            "grid_area": null,
            "grid_auto_columns": null,
            "grid_auto_flow": null,
            "grid_auto_rows": null,
            "grid_column": null,
            "grid_gap": null,
            "grid_row": null,
            "grid_template_areas": null,
            "grid_template_columns": null,
            "grid_template_rows": null,
            "height": null,
            "justify_content": null,
            "justify_items": null,
            "left": null,
            "margin": null,
            "max_height": null,
            "max_width": null,
            "min_height": null,
            "min_width": null,
            "object_fit": null,
            "object_position": null,
            "order": null,
            "overflow": null,
            "overflow_x": null,
            "overflow_y": null,
            "padding": null,
            "right": null,
            "top": null,
            "visibility": null,
            "width": null
          }
        },
        "7713bf43f9de40558f645a9c1b7bded7": {
          "model_module": "@jupyter-widgets/controls",
          "model_module_version": "1.5.0",
          "model_name": "DescriptionStyleModel",
          "state": {
            "_model_module": "@jupyter-widgets/controls",
            "_model_module_version": "1.5.0",
            "_model_name": "DescriptionStyleModel",
            "_view_count": null,
            "_view_module": "@jupyter-widgets/base",
            "_view_module_version": "1.2.0",
            "_view_name": "StyleView",
            "description_width": ""
          }
        },
        "79cbb4479fd04b028993f9ae31266e64": {
          "model_module": "@jupyter-widgets/controls",
          "model_module_version": "1.5.0",
          "model_name": "HTMLModel",
          "state": {
            "_dom_classes": [],
            "_model_module": "@jupyter-widgets/controls",
            "_model_module_version": "1.5.0",
            "_model_name": "HTMLModel",
            "_view_count": null,
            "_view_module": "@jupyter-widgets/controls",
            "_view_module_version": "1.5.0",
            "_view_name": "HTMLView",
            "description": "",
            "description_tooltip": null,
            "layout": "IPY_MODEL_c28f3b7675894b4ebe981c7d3267130a",
            "placeholder": "​",
            "style": "IPY_MODEL_7713bf43f9de40558f645a9c1b7bded7",
            "value": " 26422272/? [00:01&lt;00:00, 23820109.30it/s]"
          }
        },
        "7cbcffd488794d8f82e0b8e4eb69c908": {
          "model_module": "@jupyter-widgets/controls",
          "model_module_version": "1.5.0",
          "model_name": "HTMLModel",
          "state": {
            "_dom_classes": [],
            "_model_module": "@jupyter-widgets/controls",
            "_model_module_version": "1.5.0",
            "_model_name": "HTMLModel",
            "_view_count": null,
            "_view_module": "@jupyter-widgets/controls",
            "_view_module_version": "1.5.0",
            "_view_name": "HTMLView",
            "description": "",
            "description_tooltip": null,
            "layout": "IPY_MODEL_56325ddc43d0457189213bbb42621d35",
            "placeholder": "​",
            "style": "IPY_MODEL_c65b6478c8144668baf10eaf5ea59961",
            "value": ""
          }
        },
        "82e00f6f63644172ab0ed6112bd999e3": {
          "model_module": "@jupyter-widgets/base",
          "model_module_version": "1.2.0",
          "model_name": "LayoutModel",
          "state": {
            "_model_module": "@jupyter-widgets/base",
            "_model_module_version": "1.2.0",
            "_model_name": "LayoutModel",
            "_view_count": null,
            "_view_module": "@jupyter-widgets/base",
            "_view_module_version": "1.2.0",
            "_view_name": "LayoutView",
            "align_content": null,
            "align_items": null,
            "align_self": null,
            "border": null,
            "bottom": null,
            "display": null,
            "flex": null,
            "flex_flow": null,
            "grid_area": null,
            "grid_auto_columns": null,
            "grid_auto_flow": null,
            "grid_auto_rows": null,
            "grid_column": null,
            "grid_gap": null,
            "grid_row": null,
            "grid_template_areas": null,
            "grid_template_columns": null,
            "grid_template_rows": null,
            "height": null,
            "justify_content": null,
            "justify_items": null,
            "left": null,
            "margin": null,
            "max_height": null,
            "max_width": null,
            "min_height": null,
            "min_width": null,
            "object_fit": null,
            "object_position": null,
            "order": null,
            "overflow": null,
            "overflow_x": null,
            "overflow_y": null,
            "padding": null,
            "right": null,
            "top": null,
            "visibility": null,
            "width": null
          }
        },
        "8d29b91697d74ed880cbe0c33c4b47a1": {
          "model_module": "@jupyter-widgets/base",
          "model_module_version": "1.2.0",
          "model_name": "LayoutModel",
          "state": {
            "_model_module": "@jupyter-widgets/base",
            "_model_module_version": "1.2.0",
            "_model_name": "LayoutModel",
            "_view_count": null,
            "_view_module": "@jupyter-widgets/base",
            "_view_module_version": "1.2.0",
            "_view_name": "LayoutView",
            "align_content": null,
            "align_items": null,
            "align_self": null,
            "border": null,
            "bottom": null,
            "display": null,
            "flex": null,
            "flex_flow": null,
            "grid_area": null,
            "grid_auto_columns": null,
            "grid_auto_flow": null,
            "grid_auto_rows": null,
            "grid_column": null,
            "grid_gap": null,
            "grid_row": null,
            "grid_template_areas": null,
            "grid_template_columns": null,
            "grid_template_rows": null,
            "height": null,
            "justify_content": null,
            "justify_items": null,
            "left": null,
            "margin": null,
            "max_height": null,
            "max_width": null,
            "min_height": null,
            "min_width": null,
            "object_fit": null,
            "object_position": null,
            "order": null,
            "overflow": null,
            "overflow_x": null,
            "overflow_y": null,
            "padding": null,
            "right": null,
            "top": null,
            "visibility": null,
            "width": null
          }
        },
        "953498a0ddfe4d11b43e3807460199f4": {
          "model_module": "@jupyter-widgets/base",
          "model_module_version": "1.2.0",
          "model_name": "LayoutModel",
          "state": {
            "_model_module": "@jupyter-widgets/base",
            "_model_module_version": "1.2.0",
            "_model_name": "LayoutModel",
            "_view_count": null,
            "_view_module": "@jupyter-widgets/base",
            "_view_module_version": "1.2.0",
            "_view_name": "LayoutView",
            "align_content": null,
            "align_items": null,
            "align_self": null,
            "border": null,
            "bottom": null,
            "display": null,
            "flex": null,
            "flex_flow": null,
            "grid_area": null,
            "grid_auto_columns": null,
            "grid_auto_flow": null,
            "grid_auto_rows": null,
            "grid_column": null,
            "grid_gap": null,
            "grid_row": null,
            "grid_template_areas": null,
            "grid_template_columns": null,
            "grid_template_rows": null,
            "height": null,
            "justify_content": null,
            "justify_items": null,
            "left": null,
            "margin": null,
            "max_height": null,
            "max_width": null,
            "min_height": null,
            "min_width": null,
            "object_fit": null,
            "object_position": null,
            "order": null,
            "overflow": null,
            "overflow_x": null,
            "overflow_y": null,
            "padding": null,
            "right": null,
            "top": null,
            "visibility": null,
            "width": null
          }
        },
        "bd102b55975c4579a42368e6cc4828b5": {
          "model_module": "@jupyter-widgets/controls",
          "model_module_version": "1.5.0",
          "model_name": "HBoxModel",
          "state": {
            "_dom_classes": [],
            "_model_module": "@jupyter-widgets/controls",
            "_model_module_version": "1.5.0",
            "_model_name": "HBoxModel",
            "_view_count": null,
            "_view_module": "@jupyter-widgets/controls",
            "_view_module_version": "1.5.0",
            "_view_name": "HBoxView",
            "box_style": "",
            "children": [
              "IPY_MODEL_2488069390a74df88211dc4730cae5f6",
              "IPY_MODEL_4a22ff91c78247188bef45b31c636161",
              "IPY_MODEL_1dd43c9c86b84e64b0397aeee6082f0d"
            ],
            "layout": "IPY_MODEL_8d29b91697d74ed880cbe0c33c4b47a1"
          }
        },
        "c0553b840c164efe95a36b5650c83e03": {
          "model_module": "@jupyter-widgets/base",
          "model_module_version": "1.2.0",
          "model_name": "LayoutModel",
          "state": {
            "_model_module": "@jupyter-widgets/base",
            "_model_module_version": "1.2.0",
            "_model_name": "LayoutModel",
            "_view_count": null,
            "_view_module": "@jupyter-widgets/base",
            "_view_module_version": "1.2.0",
            "_view_name": "LayoutView",
            "align_content": null,
            "align_items": null,
            "align_self": null,
            "border": null,
            "bottom": null,
            "display": null,
            "flex": null,
            "flex_flow": null,
            "grid_area": null,
            "grid_auto_columns": null,
            "grid_auto_flow": null,
            "grid_auto_rows": null,
            "grid_column": null,
            "grid_gap": null,
            "grid_row": null,
            "grid_template_areas": null,
            "grid_template_columns": null,
            "grid_template_rows": null,
            "height": null,
            "justify_content": null,
            "justify_items": null,
            "left": null,
            "margin": null,
            "max_height": null,
            "max_width": null,
            "min_height": null,
            "min_width": null,
            "object_fit": null,
            "object_position": null,
            "order": null,
            "overflow": null,
            "overflow_x": null,
            "overflow_y": null,
            "padding": null,
            "right": null,
            "top": null,
            "visibility": null,
            "width": null
          }
        },
        "c28f3b7675894b4ebe981c7d3267130a": {
          "model_module": "@jupyter-widgets/base",
          "model_module_version": "1.2.0",
          "model_name": "LayoutModel",
          "state": {
            "_model_module": "@jupyter-widgets/base",
            "_model_module_version": "1.2.0",
            "_model_name": "LayoutModel",
            "_view_count": null,
            "_view_module": "@jupyter-widgets/base",
            "_view_module_version": "1.2.0",
            "_view_name": "LayoutView",
            "align_content": null,
            "align_items": null,
            "align_self": null,
            "border": null,
            "bottom": null,
            "display": null,
            "flex": null,
            "flex_flow": null,
            "grid_area": null,
            "grid_auto_columns": null,
            "grid_auto_flow": null,
            "grid_auto_rows": null,
            "grid_column": null,
            "grid_gap": null,
            "grid_row": null,
            "grid_template_areas": null,
            "grid_template_columns": null,
            "grid_template_rows": null,
            "height": null,
            "justify_content": null,
            "justify_items": null,
            "left": null,
            "margin": null,
            "max_height": null,
            "max_width": null,
            "min_height": null,
            "min_width": null,
            "object_fit": null,
            "object_position": null,
            "order": null,
            "overflow": null,
            "overflow_x": null,
            "overflow_y": null,
            "padding": null,
            "right": null,
            "top": null,
            "visibility": null,
            "width": null
          }
        },
        "c4b7c76f16234ad5a59514f89525bc23": {
          "model_module": "@jupyter-widgets/base",
          "model_module_version": "1.2.0",
          "model_name": "LayoutModel",
          "state": {
            "_model_module": "@jupyter-widgets/base",
            "_model_module_version": "1.2.0",
            "_model_name": "LayoutModel",
            "_view_count": null,
            "_view_module": "@jupyter-widgets/base",
            "_view_module_version": "1.2.0",
            "_view_name": "LayoutView",
            "align_content": null,
            "align_items": null,
            "align_self": null,
            "border": null,
            "bottom": null,
            "display": null,
            "flex": null,
            "flex_flow": null,
            "grid_area": null,
            "grid_auto_columns": null,
            "grid_auto_flow": null,
            "grid_auto_rows": null,
            "grid_column": null,
            "grid_gap": null,
            "grid_row": null,
            "grid_template_areas": null,
            "grid_template_columns": null,
            "grid_template_rows": null,
            "height": null,
            "justify_content": null,
            "justify_items": null,
            "left": null,
            "margin": null,
            "max_height": null,
            "max_width": null,
            "min_height": null,
            "min_width": null,
            "object_fit": null,
            "object_position": null,
            "order": null,
            "overflow": null,
            "overflow_x": null,
            "overflow_y": null,
            "padding": null,
            "right": null,
            "top": null,
            "visibility": null,
            "width": null
          }
        },
        "c65b6478c8144668baf10eaf5ea59961": {
          "model_module": "@jupyter-widgets/controls",
          "model_module_version": "1.5.0",
          "model_name": "DescriptionStyleModel",
          "state": {
            "_model_module": "@jupyter-widgets/controls",
            "_model_module_version": "1.5.0",
            "_model_name": "DescriptionStyleModel",
            "_view_count": null,
            "_view_module": "@jupyter-widgets/base",
            "_view_module_version": "1.2.0",
            "_view_name": "StyleView",
            "description_width": ""
          }
        },
        "c9cf2f743e714ab482913b3f38bbb518": {
          "model_module": "@jupyter-widgets/controls",
          "model_module_version": "1.5.0",
          "model_name": "HTMLModel",
          "state": {
            "_dom_classes": [],
            "_model_module": "@jupyter-widgets/controls",
            "_model_module_version": "1.5.0",
            "_model_name": "HTMLModel",
            "_view_count": null,
            "_view_module": "@jupyter-widgets/controls",
            "_view_module_version": "1.5.0",
            "_view_name": "HTMLView",
            "description": "",
            "description_tooltip": null,
            "layout": "IPY_MODEL_ddf33a9b8b604e8f9982d8eabb506aca",
            "placeholder": "​",
            "style": "IPY_MODEL_27e1a3088eec4b1f9652f3675108fd82",
            "value": " 29696/? [00:00&lt;00:00, 135421.41it/s]"
          }
        },
        "cda8d460bc234041abfce597dd14493f": {
          "model_module": "@jupyter-widgets/controls",
          "model_module_version": "1.5.0",
          "model_name": "HTMLModel",
          "state": {
            "_dom_classes": [],
            "_model_module": "@jupyter-widgets/controls",
            "_model_module_version": "1.5.0",
            "_model_name": "HTMLModel",
            "_view_count": null,
            "_view_module": "@jupyter-widgets/controls",
            "_view_module_version": "1.5.0",
            "_view_name": "HTMLView",
            "description": "",
            "description_tooltip": null,
            "layout": "IPY_MODEL_c4b7c76f16234ad5a59514f89525bc23",
            "placeholder": "​",
            "style": "IPY_MODEL_0062bd5133424a2bae436398616afb0f",
            "value": ""
          }
        },
        "cdcef1733f8b43f59e05e0dadb7d3f64": {
          "model_module": "@jupyter-widgets/controls",
          "model_module_version": "1.5.0",
          "model_name": "DescriptionStyleModel",
          "state": {
            "_model_module": "@jupyter-widgets/controls",
            "_model_module_version": "1.5.0",
            "_model_name": "DescriptionStyleModel",
            "_view_count": null,
            "_view_module": "@jupyter-widgets/base",
            "_view_module_version": "1.2.0",
            "_view_name": "StyleView",
            "description_width": ""
          }
        },
        "cf595bed393744aba104cae071c28fe5": {
          "model_module": "@jupyter-widgets/controls",
          "model_module_version": "1.5.0",
          "model_name": "ProgressStyleModel",
          "state": {
            "_model_module": "@jupyter-widgets/controls",
            "_model_module_version": "1.5.0",
            "_model_name": "ProgressStyleModel",
            "_view_count": null,
            "_view_module": "@jupyter-widgets/base",
            "_view_module_version": "1.2.0",
            "_view_name": "StyleView",
            "bar_color": null,
            "description_width": ""
          }
        },
        "d058affa359b4d829b10a0e8bc1f582d": {
          "model_module": "@jupyter-widgets/controls",
          "model_module_version": "1.5.0",
          "model_name": "HBoxModel",
          "state": {
            "_dom_classes": [],
            "_model_module": "@jupyter-widgets/controls",
            "_model_module_version": "1.5.0",
            "_model_name": "HBoxModel",
            "_view_count": null,
            "_view_module": "@jupyter-widgets/controls",
            "_view_module_version": "1.5.0",
            "_view_name": "HBoxView",
            "box_style": "",
            "children": [
              "IPY_MODEL_e9f7cd454dee4c1a8812d762715d7ae3",
              "IPY_MODEL_60b1fc24928b40e5963bb94b47193269",
              "IPY_MODEL_79cbb4479fd04b028993f9ae31266e64"
            ],
            "layout": "IPY_MODEL_7035798a82454195b0d3e9dac1909538"
          }
        },
        "dde5b3f03250447d8c9fd0fc451ece2e": {
          "model_module": "@jupyter-widgets/controls",
          "model_module_version": "1.5.0",
          "model_name": "DescriptionStyleModel",
          "state": {
            "_model_module": "@jupyter-widgets/controls",
            "_model_module_version": "1.5.0",
            "_model_name": "DescriptionStyleModel",
            "_view_count": null,
            "_view_module": "@jupyter-widgets/base",
            "_view_module_version": "1.2.0",
            "_view_name": "StyleView",
            "description_width": ""
          }
        },
        "ddf33a9b8b604e8f9982d8eabb506aca": {
          "model_module": "@jupyter-widgets/base",
          "model_module_version": "1.2.0",
          "model_name": "LayoutModel",
          "state": {
            "_model_module": "@jupyter-widgets/base",
            "_model_module_version": "1.2.0",
            "_model_name": "LayoutModel",
            "_view_count": null,
            "_view_module": "@jupyter-widgets/base",
            "_view_module_version": "1.2.0",
            "_view_name": "LayoutView",
            "align_content": null,
            "align_items": null,
            "align_self": null,
            "border": null,
            "bottom": null,
            "display": null,
            "flex": null,
            "flex_flow": null,
            "grid_area": null,
            "grid_auto_columns": null,
            "grid_auto_flow": null,
            "grid_auto_rows": null,
            "grid_column": null,
            "grid_gap": null,
            "grid_row": null,
            "grid_template_areas": null,
            "grid_template_columns": null,
            "grid_template_rows": null,
            "height": null,
            "justify_content": null,
            "justify_items": null,
            "left": null,
            "margin": null,
            "max_height": null,
            "max_width": null,
            "min_height": null,
            "min_width": null,
            "object_fit": null,
            "object_position": null,
            "order": null,
            "overflow": null,
            "overflow_x": null,
            "overflow_y": null,
            "padding": null,
            "right": null,
            "top": null,
            "visibility": null,
            "width": null
          }
        },
        "e9f7cd454dee4c1a8812d762715d7ae3": {
          "model_module": "@jupyter-widgets/controls",
          "model_module_version": "1.5.0",
          "model_name": "HTMLModel",
          "state": {
            "_dom_classes": [],
            "_model_module": "@jupyter-widgets/controls",
            "_model_module_version": "1.5.0",
            "_model_name": "HTMLModel",
            "_view_count": null,
            "_view_module": "@jupyter-widgets/controls",
            "_view_module_version": "1.5.0",
            "_view_name": "HTMLView",
            "description": "",
            "description_tooltip": null,
            "layout": "IPY_MODEL_f3b0808228704ca5bf82851e42e90970",
            "placeholder": "​",
            "style": "IPY_MODEL_69eec4ae5a534576bfaefbd06c3a63b4",
            "value": ""
          }
        },
        "ed75792142ad4b06aa1d98f576f4a758": {
          "model_module": "@jupyter-widgets/controls",
          "model_module_version": "1.5.0",
          "model_name": "HTMLModel",
          "state": {
            "_dom_classes": [],
            "_model_module": "@jupyter-widgets/controls",
            "_model_module_version": "1.5.0",
            "_model_name": "HTMLModel",
            "_view_count": null,
            "_view_module": "@jupyter-widgets/controls",
            "_view_module_version": "1.5.0",
            "_view_name": "HTMLView",
            "description": "",
            "description_tooltip": null,
            "layout": "IPY_MODEL_0290729c888e439396da95c2be11276b",
            "placeholder": "​",
            "style": "IPY_MODEL_dde5b3f03250447d8c9fd0fc451ece2e",
            "value": " 4422656/? [00:00&lt;00:00, 7426315.07it/s]"
          }
        },
        "edf75985d9d74981b348895ba075a506": {
          "model_module": "@jupyter-widgets/controls",
          "model_module_version": "1.5.0",
          "model_name": "ProgressStyleModel",
          "state": {
            "_model_module": "@jupyter-widgets/controls",
            "_model_module_version": "1.5.0",
            "_model_name": "ProgressStyleModel",
            "_view_count": null,
            "_view_module": "@jupyter-widgets/base",
            "_view_module_version": "1.2.0",
            "_view_name": "StyleView",
            "bar_color": null,
            "description_width": ""
          }
        },
        "f3b0808228704ca5bf82851e42e90970": {
          "model_module": "@jupyter-widgets/base",
          "model_module_version": "1.2.0",
          "model_name": "LayoutModel",
          "state": {
            "_model_module": "@jupyter-widgets/base",
            "_model_module_version": "1.2.0",
            "_model_name": "LayoutModel",
            "_view_count": null,
            "_view_module": "@jupyter-widgets/base",
            "_view_module_version": "1.2.0",
            "_view_name": "LayoutView",
            "align_content": null,
            "align_items": null,
            "align_self": null,
            "border": null,
            "bottom": null,
            "display": null,
            "flex": null,
            "flex_flow": null,
            "grid_area": null,
            "grid_auto_columns": null,
            "grid_auto_flow": null,
            "grid_auto_rows": null,
            "grid_column": null,
            "grid_gap": null,
            "grid_row": null,
            "grid_template_areas": null,
            "grid_template_columns": null,
            "grid_template_rows": null,
            "height": null,
            "justify_content": null,
            "justify_items": null,
            "left": null,
            "margin": null,
            "max_height": null,
            "max_width": null,
            "min_height": null,
            "min_width": null,
            "object_fit": null,
            "object_position": null,
            "order": null,
            "overflow": null,
            "overflow_x": null,
            "overflow_y": null,
            "padding": null,
            "right": null,
            "top": null,
            "visibility": null,
            "width": null
          }
        },
        "f4da0bbe98de4dbd8bc10d9b1f2adb3e": {
          "model_module": "@jupyter-widgets/base",
          "model_module_version": "1.2.0",
          "model_name": "LayoutModel",
          "state": {
            "_model_module": "@jupyter-widgets/base",
            "_model_module_version": "1.2.0",
            "_model_name": "LayoutModel",
            "_view_count": null,
            "_view_module": "@jupyter-widgets/base",
            "_view_module_version": "1.2.0",
            "_view_name": "LayoutView",
            "align_content": null,
            "align_items": null,
            "align_self": null,
            "border": null,
            "bottom": null,
            "display": null,
            "flex": null,
            "flex_flow": null,
            "grid_area": null,
            "grid_auto_columns": null,
            "grid_auto_flow": null,
            "grid_auto_rows": null,
            "grid_column": null,
            "grid_gap": null,
            "grid_row": null,
            "grid_template_areas": null,
            "grid_template_columns": null,
            "grid_template_rows": null,
            "height": null,
            "justify_content": null,
            "justify_items": null,
            "left": null,
            "margin": null,
            "max_height": null,
            "max_width": null,
            "min_height": null,
            "min_width": null,
            "object_fit": null,
            "object_position": null,
            "order": null,
            "overflow": null,
            "overflow_x": null,
            "overflow_y": null,
            "padding": null,
            "right": null,
            "top": null,
            "visibility": null,
            "width": null
          }
        },
        "f75812d61f2b439797f77fa2182b90b7": {
          "model_module": "@jupyter-widgets/controls",
          "model_module_version": "1.5.0",
          "model_name": "ProgressStyleModel",
          "state": {
            "_model_module": "@jupyter-widgets/controls",
            "_model_module_version": "1.5.0",
            "_model_name": "ProgressStyleModel",
            "_view_count": null,
            "_view_module": "@jupyter-widgets/base",
            "_view_module_version": "1.2.0",
            "_view_name": "StyleView",
            "bar_color": null,
            "description_width": ""
          }
        }
      }
    }
  },
  "nbformat": 4,
  "nbformat_minor": 0
}
